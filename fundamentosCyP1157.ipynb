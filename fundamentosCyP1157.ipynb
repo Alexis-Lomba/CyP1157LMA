{
  "nbformat": 4,
  "nbformat_minor": 0,
  "metadata": {
    "colab": {
      "name": "fundamentosCyP1157.ipynb",
      "provenance": []
    },
    "kernelspec": {
      "name": "python3",
      "display_name": "Python 3"
    },
    "language_info": {
      "name": "python"
    }
  },
  "cells": [
    {
      "cell_type": "code",
      "metadata": {
        "colab": {
          "base_uri": "https://localhost:8080/"
        },
        "id": "vSMUZuh8VfPq",
        "outputId": "9e775dee-a362-4afa-bd23-d5a325a187aa"
      },
      "source": [
        "nombre='Jose'   #tipo de dato String (cadena de caracteres)\n",
        "\n",
        "print(nombre)\n",
        "\n"
      ],
      "execution_count": null,
      "outputs": [
        {
          "output_type": "stream",
          "name": "stdout",
          "text": [
            "Jose\n"
          ]
        }
      ]
    },
    {
      "cell_type": "markdown",
      "metadata": {
        "id": "lGL5QvYJXM6Z"
      },
      "source": [
        "# Tipos de datos en python\n",
        "\n",
        "\n",
        "### Tipo de datos simples \n",
        "- str -- String, cadena de caracteres \n",
        "- int -- Numeros etnerso\n",
        "- float -- Numeros con punto decimal\n",
        "- complex -- Numeros complejos\n",
        "- bool -- Booleano (True or false)\n",
        "- byte -- 8 bits\n",
        "\n",
        "### Tipos de datos compuestos/estructurados \n",
        "- list -- listas (arreglos en otros lenguajes)\n",
        "- tuple -- listas no mutables \n",
        "- dict -- diccionarios\n",
        "- set y fronzenset -- conjuntos \n",
        "\n",
        "\n"
      ]
    },
    {
      "cell_type": "code",
      "metadata": {
        "colab": {
          "base_uri": "https://localhost:8080/"
        },
        "id": "pFd4TXOMaUyB",
        "outputId": "3008e226-d484-43c8-ccfe-3d7b7130e12f"
      },
      "source": [
        "import sys #biblioteca de sistema\n",
        "\n",
        "edad=19\n",
        "print(\"tu edad es:\", edad)\n",
        "# este es un comentario de linea simple  \n",
        "\n",
        "\"\"\" \n",
        "comentario de multiple linea \n",
        "En lenguaje C, Java y C++ el comentario de liean simeple es con //\n",
        "y el de multiple es con /* ... /*\n",
        "\n",
        "Aqui se puede explicar el segmento de codigo para una futura revision \n",
        "\"\"\"\n",
        "\n",
        "#Tipos de dato numerico: int y float\n",
        "\n",
        "print (sys.getsizeof(edad)) #cuanto espacio en bits esta ocupando la variable en el sistema \n",
        "#el tipo dedato INT utiliza diferente cantidad de bits segun el lenguaje\n",
        "# en C utiliza 16 bits \n",
        "\n",
        "edad=edad+1\n",
        "\n",
        "print(edad)\n",
        "\n",
        "\n",
        "estatura=1.56\n",
        "print(estatura)\n",
        "print(\"El numero de bits que ocupa es:\", sys.getsizeof(estatura))\n",
        "estatura=estatura+0.1\n",
        "print(estatura)\n",
        "print(round(estatura,2)) #Se esta redondenado a 2 lugares decimales\n",
        "\n",
        "edad+=1  #edad=edad+1\n",
        "print(\"tu edad es:\", edad)\n",
        "\n",
        "edad-=1\n",
        "print(\"tu edad es:\", edad)\n",
        "\n",
        "edad/=2 #edad=edad/2\n",
        "print(\"La mitad de tu edad es:\", edad)\n",
        "\n",
        "edad=21\n",
        "# // es para la division entera, sin punto decimal\n",
        "edad=edad//2\n",
        "print(\"La mitad de tu edad es:\", edad)\n",
        "\n",
        "#la mayoria de lenguajes no permite operaciones entre diferentes tipos de datos, en python no\n",
        "\n",
        "numero=edad/2.0\n",
        "print(numero)\n",
        "\n",
        "numero=numero*3  #numero *=3\n",
        "print(numero)\n",
        "\n",
        "numero=5.0\n",
        "numero**=2\n",
        "print(numero)\n",
        "\n",
        "#operador modulo\n",
        "numero=21\n",
        "print(numero/2)\n",
        "print(numero//2)\n",
        "\n",
        "#el operador modulo % da como resultado el residuo de la division\n",
        "print(numero%2)\n",
        "\n",
        "numero=24\n",
        "print(numero%5)\n",
        "\n",
        "#operadores relacionales (logicos)\n",
        "\n",
        "print(numero%2== 0)\n",
        "\n",
        "#diferencia\n",
        "print(\"24 es diferente de 23=\", numero !=23)\n",
        "\n",
        "print(\"24 es mayor que 23=\", numero>23)\n",
        "\n",
        "print(\"24 es mayor que 23=\", numero<23)\n",
        "\n",
        "print(\"24 es menor o igual que 24=\", numero>=24)\n",
        "\n",
        "print(\"24 es menor o igual que 23=\", numero<=23)\n",
        "\n",
        "\n",
        "print(\"El tipo de la variable numero es:\", type(numero))\n",
        "print(\"El tipo de la variable numero entre 2 es:\", type(numero/2))\n"
      ],
      "execution_count": null,
      "outputs": [
        {
          "output_type": "stream",
          "name": "stdout",
          "text": [
            "tu edad es: 19\n",
            "28\n",
            "20\n",
            "1.56\n",
            "El numero de bits que ocupa es: 24\n",
            "1.6600000000000001\n",
            "1.66\n",
            "tu edad es: 21\n",
            "tu edad es: 20\n",
            "La mitad de tu edad es: 10.0\n",
            "La mitad de tu edad es: 10\n",
            "5.0\n",
            "15.0\n",
            "25.0\n",
            "10.5\n",
            "10\n",
            "1\n",
            "4\n",
            "True\n",
            "24 es diferente de 23= True\n",
            "24 es mayor que 23= True\n",
            "24 es mayor que 23= False\n",
            "24 es menor o igual que 24= True\n",
            "24 es menor o igual que 23= False\n",
            "El tipo de la variable numero es: <class 'int'>\n",
            "El tipo de la variable numero es: <class 'float'>\n"
          ]
        }
      ]
    },
    {
      "cell_type": "markdown",
      "metadata": {
        "id": "C8IWqwiFpmLm"
      },
      "source": [
        "#tipo de dato string (str) en Python\n",
        "- se maneja como un  arreglo (tipo de dato compuesto)\n",
        "- se puede acceder a los elementos de el string por medio del indice de caracter \n",
        "- mutable\n",
        "- tiene metodos utiles (potencia)\n",
        "- tiene cuestiones como slicing\n",
        " "
      ]
    },
    {
      "cell_type": "code",
      "metadata": {
        "colab": {
          "base_uri": "https://localhost:8080/"
        },
        "id": "rG_l02APqHJ7",
        "outputId": "63d24d01-6806-426d-c3d6-62b7ee8dfd2b"
      },
      "source": [
        "nombre='jose'\n",
        "carrera=\"Ingeneria en computacion\"\n",
        "frase=\"\"\"El conocimiento \n",
        "me persigue, .....\n",
        "pero\n",
        "yo soy mas rapido\n",
        "\"\"\"\n",
        "print(nombre)\n",
        "print(carrera)\n",
        "print(frase)\n",
        "\n",
        "# La funcion que devuleve el tipo de dato de una variable \n",
        "print(type(nombre))\n",
        "\n",
        "paterno=str(\"Perez\")\n",
        "print(paterno) "
      ],
      "execution_count": null,
      "outputs": [
        {
          "output_type": "stream",
          "name": "stdout",
          "text": [
            "jose\n",
            "Ingeneria en computacion\n",
            "El conocimiento \n",
            "me persigue, .....\n",
            "pero\n",
            "yo soy mas rapido\n",
            "\n",
            "<class 'str'>\n",
            "Perez\n"
          ]
        }
      ]
    }
  ]
}