{
  "nbformat": 4,
  "nbformat_minor": 0,
  "metadata": {
    "colab": {
      "name": "Fundamentos4_CYP.ipynb",
      "provenance": []
    },
    "kernelspec": {
      "name": "python3",
      "display_name": "Python 3"
    },
    "language_info": {
      "name": "python"
    }
  },
  "cells": [
    {
      "cell_type": "markdown",
      "metadata": {
        "id": "Vz7zr8FgUSPc"
      },
      "source": [
        "# Modularidad (funciones)\n",
        "\n",
        "Una funcion es una unidad de codigo reutilizable , ademas de ser un mecanismo para organizar codigo\n",
        "\n",
        "La gran ventaja es de emplear funciones es simplificar la programacion \n",
        "\n",
        "### Estructura\n",
        "Una funcion puede tomar cualquier cantidad de parametros de entrada (de cualquier tipo) y retorna unicamnete un solo valor \n",
        "\n",
        "Un parametro de entrada es un vaslor que recibe la funcion para realizar sus operaciones\n",
        "\n",
        "Con una funcion se pueden hacer 2 coasas;\n",
        "1. definirla\n",
        "2. invocarla (ejecutarla)\n",
        "\n",
        "La gran ventaja de tener una funcion declara es que la podemos utilizar cuando se desee"
      ]
    },
    {
      "cell_type": "code",
      "metadata": {
        "id": "yoH_QK-NXYr7"
      },
      "source": [
        "def sumar(op1, op2):\n",
        "    res=op1+op2\n",
        "    return res"
      ],
      "execution_count": 1,
      "outputs": []
    },
    {
      "cell_type": "code",
      "metadata": {
        "colab": {
          "base_uri": "https://localhost:8080/"
        },
        "id": "KuQke02uYGrJ",
        "outputId": "c522c57c-35ef-4503-e67a-2c59dddd16d9"
      },
      "source": [
        "res=sumar(2, 5)\n",
        "print(res)"
      ],
      "execution_count": 2,
      "outputs": [
        {
          "output_type": "stream",
          "name": "stdout",
          "text": [
            "7\n"
          ]
        }
      ]
    },
    {
      "cell_type": "code",
      "metadata": {
        "colab": {
          "base_uri": "https://localhost:8080/"
        },
        "id": "8ga2_TFWaR7J",
        "outputId": "11193839-4ccb-4be3-8eda-af67601e21f1"
      },
      "source": [
        "def imprime_cuadro():\n",
        "    print(\"****\")\n",
        "    print(\"****\")\n",
        "    print(\"****\")\n",
        "    print(\"****\")\n",
        "\n",
        "imprime_cuadro()"
      ],
      "execution_count": 3,
      "outputs": [
        {
          "output_type": "stream",
          "name": "stdout",
          "text": [
            "****\n",
            "****\n",
            "****\n",
            "****\n"
          ]
        }
      ]
    },
    {
      "cell_type": "markdown",
      "metadata": {
        "id": "Ivf9bfQYa_64"
      },
      "source": [
        "# valor de retorno de una funcion \n",
        "\n",
        "regla de oro---- una funcion siempre rertorna un SOLO VALOR. Inclusive si ese valor es el vacio"
      ]
    },
    {
      "cell_type": "code",
      "metadata": {
        "colab": {
          "base_uri": "https://localhost:8080/"
        },
        "id": "PEgNVM6Xc0JE",
        "outputId": "603c1a70-9c62-4432-9e7b-98884e562b10"
      },
      "source": [
        "# invocar sumar\n",
        "res = sumar(7 , 8)\n",
        "print(res)\n",
        "# invocar la funcion pintar cuadro\n",
        "res = imprime_cuadro( )\n",
        "print(res)"
      ],
      "execution_count": 4,
      "outputs": [
        {
          "output_type": "stream",
          "name": "stdout",
          "text": [
            "15\n",
            "****\n",
            "****\n",
            "****\n",
            "****\n",
            "None\n"
          ]
        }
      ]
    },
    {
      "cell_type": "markdown",
      "metadata": {
        "id": "j5mslsUBdLJJ"
      },
      "source": [
        "# La palabra reservada None en python\n",
        "\n",
        "Esta palabra reservada significa vacio, equivalente a la palabra reservada void del lenguaje c, c++ y Java\n",
        "\n",
        "Se usa para indicar ya sea un return vacio o que se recibe como parametro un vacio"
      ]
    },
    {
      "cell_type": "code",
      "metadata": {
        "id": "b1D270r-fZFR"
      },
      "source": [
        "def multiplicar( valor , veces ) :\n",
        "    c = valor * veces\n",
        "    return c"
      ],
      "execution_count": null,
      "outputs": []
    },
    {
      "cell_type": "code",
      "metadata": {
        "id": "AVJ4jaK5faL3"
      },
      "source": [
        "res = multiplicar( 5 , 5 )\n",
        "print(res)"
      ],
      "execution_count": null,
      "outputs": []
    },
    {
      "cell_type": "code",
      "metadata": {
        "id": "BFLZ2p0vff2o"
      },
      "source": [
        "def multiplicar( valor , veces ):\n",
        "    if valor == None:\n",
        "        c=-1\n",
        "    else:\n",
        "        c = valor * veces\n",
        "    return c"
      ],
      "execution_count": null,
      "outputs": []
    },
    {
      "cell_type": "code",
      "metadata": {
        "id": "44hTnDjrfiOk"
      },
      "source": [
        "res = multiplicar( None, 5)\n",
        "print(res)"
      ],
      "execution_count": null,
      "outputs": []
    },
    {
      "cell_type": "markdown",
      "metadata": {
        "id": "ExPgMEjxfotk"
      },
      "source": [
        "# Parametros y argumentos\n",
        "Son conceptos relacionados y su diferencia esta centrada en el moemnto que se emplea en una funcion\n",
        "\n",
        "Es decir en la funcion sumar de arriba cuando se declara se le llama parametroy cuando se invoca se le llama argumento"
      ]
    },
    {
      "cell_type": "markdown",
      "metadata": {
        "id": "9cLGy5Jlgfzu"
      },
      "source": [
        "# argumentos pocsionales\n",
        "\n",
        "En python es posible determinar a que parametro estan dirigidos los argumentos segun su pocision"
      ]
    },
    {
      "cell_type": "code",
      "metadata": {
        "id": "D9KuOFAXgrgY"
      },
      "source": [
        "def dividir(op1,op2):\n",
        "    c=op1/op2\n",
        "    return c"
      ],
      "execution_count": 7,
      "outputs": []
    },
    {
      "cell_type": "code",
      "metadata": {
        "colab": {
          "base_uri": "https://localhost:8080/"
        },
        "id": "5i-OT8eSg1on",
        "outputId": "c173be92-bec3-4576-92da-0c6d54e592a5"
      },
      "source": [
        "num1=25\n",
        "num2=5\n",
        "res=dividir(num1, num2) \n",
        "print(res)\n",
        "res=dividir(num2, num1) \n",
        "print(res)"
      ],
      "execution_count": 11,
      "outputs": [
        {
          "output_type": "stream",
          "name": "stdout",
          "text": [
            "5.0\n",
            "0.2\n"
          ]
        }
      ]
    },
    {
      "cell_type": "markdown",
      "metadata": {
        "id": "8enH6RoQhS4a"
      },
      "source": [
        "# Argumentos con palabras clave (keywords)\n",
        "\n",
        "Es la posibilidad de indicarles a la funcion en tiempo de ejecucion a que parametro va dirjido un argumento de entrada"
      ]
    }
  ]
}