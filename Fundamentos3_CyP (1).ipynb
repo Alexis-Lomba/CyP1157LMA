{
  "nbformat": 4,
  "nbformat_minor": 0,
  "metadata": {
    "colab": {
      "name": "Fundamentos3_CyP.ipynb",
      "provenance": []
    },
    "kernelspec": {
      "name": "python3",
      "display_name": "Python 3"
    },
    "language_info": {
      "name": "python"
    }
  },
  "cells": [
    {
      "cell_type": "markdown",
      "metadata": {
        "id": "Zh3MORh9Fq03"
      },
      "source": [
        "# Repeticion \n",
        "Este tipo de estructura nos permite automatizar la ejecucion repetitiva de codigo mientras ciertas condiciones de cumplan, tenemos 3 varianetes de esta estructura en todos los lenguajes de programacion:\n",
        "\n",
        "- Desde... hasta (estructura for)\n",
        "- Haz mientras (estructura while)\n",
        "- Haz y luego validaz mientras (estructura do-while)\n",
        "\n",
        "# FOR CON PYTHON\n",
        "```\n",
        "FOR in range(10):\n",
        "    print(f\"Hola {j}\")\n",
        "```\n",
        "\n",
        "# FOR con lenguajer C y Java\n",
        "```\n",
        "for (int j=0; j<10; j=j+1){\n",
        "    printf(\"Hola 5i \\n\", j);\n",
        "}\n",
        "```\n",
        "\n",
        "En todos los lenguajes de progrmacion existe un tipo especial de FOR conocido como **for-each**\n",
        "\n",
        "#for-each en Python\n",
        "```\n",
        "for color in colors:\n",
        "    print(f\"Este es el color {color}\")\n",
        "```"
      ]
    },
    {
      "cell_type": "code",
      "metadata": {
        "colab": {
          "base_uri": "https://localhost:8080/"
        },
        "id": "OKsYs6rCGuv9",
        "outputId": "eb9cf5cc-9941-4310-c92f-6324e12d09b8"
      },
      "source": [
        "# funciuon range()\n",
        "# range (<INICIO>, <STOP>, <INCREMENTO>)\n",
        "\n",
        "x=range(0,10,2)\n",
        "print(x)\n",
        "\n",
        "for j in range (10): # range(0,10) --> 0,1,2,3,4,5,6,7,8,9\n",
        "    print(f\"Hola {j}\")\n",
        "print(\"------------------------------------------------------\")\n",
        "for j in range (0,10,2): # range(0,10) --> 0,1,2,3,4,5,6,7,8,9\n",
        "    print(f\"Hola {j}\")\n",
        "\n",
        "print(\"--------------\")\n",
        "frutas=[\"uva\", \"aguacate\", \"pera\", \"manzana\", \"sandia\"]\n",
        "for index in range (5):\n",
        "    print(frutas[index])\n",
        "\n",
        "print(\"-----------------\")\n",
        "for i in range (5):\n",
        "    print(\"+++++\")"
      ],
      "execution_count": null,
      "outputs": [
        {
          "output_type": "stream",
          "name": "stdout",
          "text": [
            "range(0, 10, 2)\n",
            "Hola 0\n",
            "Hola 1\n",
            "Hola 2\n",
            "Hola 3\n",
            "Hola 4\n",
            "Hola 5\n",
            "Hola 6\n",
            "Hola 7\n",
            "Hola 8\n",
            "Hola 9\n",
            "------------------------------------------------------\n",
            "Hola 0\n",
            "Hola 2\n",
            "Hola 4\n",
            "Hola 6\n",
            "Hola 8\n",
            "--------------\n",
            "uva\n",
            "aguacate\n",
            "pera\n",
            "manzana\n",
            "sandia\n",
            "-----------------\n",
            "+++++\n",
            "+++++\n",
            "+++++\n",
            "+++++\n",
            "+++++\n"
          ]
        }
      ]
    },
    {
      "cell_type": "code",
      "metadata": {
        "colab": {
          "base_uri": "https://localhost:8080/"
        },
        "id": "D6EfEKMeM_Ob",
        "outputId": "302ef9da-9bbb-415e-8ea5-2b4166315f09"
      },
      "source": [
        "# ejemplo 3.3\n",
        "\n",
        "cuecer=0\n",
        "NUM=0\n",
        "N=int(input(\"Introdice un valor numerico mayor a 1: \"))\n",
        "for i in range (1, N+1, 1):\n",
        "    N=int(input(\"Introdice un valor numerico mayor a 1: \"))\n",
        "    if N==0:\n",
        "        cuecer += 1\n",
        "\n",
        "print(\"Cuecer=\", cuecer)"
      ],
      "execution_count": null,
      "outputs": [
        {
          "output_type": "stream",
          "name": "stdout",
          "text": [
            "Introdice un valor numerico mayor a 1: 4\n",
            "Introdice un valor numerico mayor a 1: 0\n",
            "Introdice un valor numerico mayor a 1: 0\n",
            "Introdice un valor numerico mayor a 1: 2\n",
            "Introdice un valor numerico mayor a 1: 2\n",
            "Cuecer= 2\n"
          ]
        }
      ]
    },
    {
      "cell_type": "code",
      "metadata": {
        "colab": {
          "base_uri": "https://localhost:8080/"
        },
        "id": "_K280r2YQypI",
        "outputId": "be1932ac-a2ab-4537-f910-b6158a82b97e"
      },
      "source": [
        "# ejercicio tabla de 7\n",
        "\n",
        "N=int(input(\"De que numero quieres la tabla?: \"))\n",
        "i=0\n",
        "for i in range (0, 11, 1):\n",
        "    m=N*i\n",
        "    print(f\"{N}x{i}={m}\")"
      ],
      "execution_count": null,
      "outputs": [
        {
          "output_type": "stream",
          "name": "stdout",
          "text": [
            "De que numero quieres la tabla?: 9\n",
            "9x0=0\n",
            "9x1=9\n",
            "9x2=18\n",
            "9x3=27\n",
            "9x4=36\n",
            "9x5=45\n",
            "9x6=54\n",
            "9x7=63\n",
            "9x8=72\n",
            "9x9=81\n",
            "9x10=90\n"
          ]
        }
      ]
    },
    {
      "cell_type": "code",
      "metadata": {
        "colab": {
          "base_uri": "https://localhost:8080/"
        },
        "id": "1yxpqqHWR2VV",
        "outputId": "93b15094-6806-47fc-db58-7d413a221ef0"
      },
      "source": [
        "# ejercicio \n",
        "\n",
        "n=int(input(\"Dame un numero entre 1 y 5: \"))\n",
        "n1=int(input(f\"Dame un numero entre {n} y 10: \"))\n",
        "if 1<n>5 and 2<n1>10: \n",
        "    for i in range (n, n1+1):\n",
        "        for j in range (1,11):\n",
        "            print(f\"{1}x{j}=\", i*j)\n"
      ],
      "execution_count": 24,
      "outputs": [
        {
          "name": "stdout",
          "output_type": "stream",
          "text": [
            "Dame un numero entre 1 y 5: 2\n",
            "Dame un numero entre 2 y 10: 4\n"
          ]
        }
      ]
    },
    {
      "cell_type": "markdown",
      "metadata": {
        "id": "4hirI5LtWp4K"
      },
      "source": [
        "# Generadores de listas\n",
        "numeros=[0,0,0,0,0,0]\n",
        "\n",
        "        numeros=[0 for x in range (5)]\n",
        "\n",
        "        print(numeros)=[0,0,0,0,0]\n",
        "\n",
        "- -------------------------------------------\n",
        "        numeros=[x for x in range (5)]\n",
        "\n",
        "        print(numeros)=[0,1,2,3,4]"
      ]
    },
    {
      "cell_type": "code",
      "metadata": {
        "colab": {
          "base_uri": "https://localhost:8080/"
        },
        "id": "kjM2NjuNYAql",
        "outputId": "302155a6-14fd-4db4-c84c-aff6e8b51d42"
      },
      "source": [
        "numeros=[x for x in range (5)]\n",
        "print(numeros)\n",
        "print(\"-------------------\")\n",
        "numeros=[x for x in range (10,101,10)]\n",
        "print(numeros)\n",
        "print(\"-------------------\")"
      ],
      "execution_count": 26,
      "outputs": [
        {
          "output_type": "stream",
          "name": "stdout",
          "text": [
            "[0, 1, 2, 3, 4]\n",
            "-------------------\n",
            "[10, 20, 30, 40, 50, 60, 70, 80, 90, 100]\n",
            "-------------------\n"
          ]
        }
      ]
    },
    {
      "cell_type": "code",
      "metadata": {
        "colab": {
          "base_uri": "https://localhost:8080/"
        },
        "id": "eqCWEkhbYQER",
        "outputId": "3a9e1035-ad93-4f58-ca22-e0d52fa4cd96"
      },
      "source": [
        "# ejercicio calcualr promedio de edades\n",
        "\n",
        "suma=0\n",
        "edades=[0 for x in range (5)]\n",
        "print(edades)\n",
        "for x in range (5): \n",
        "    edades[x]=int(input(\"Dame la edad: \"))\n",
        "    suma=suma+edades[x]\n",
        "print(edades)\n",
        "print(\"promedio: \", suma/5)\n",
        "\n",
        "\n",
        "\n",
        "        \n"
      ],
      "execution_count": 4,
      "outputs": [
        {
          "output_type": "stream",
          "name": "stdout",
          "text": [
            "[0, 0, 0, 0, 0]\n",
            "Dame la edad: 4\n",
            "Dame la edad: 5\n",
            "Dame la edad: 7\n",
            "Dame la edad: 8\n",
            "Dame la edad: 14\n",
            "[4, 5, 7, 8, 14]\n",
            "promedio:  7.6\n"
          ]
        }
      ]
    },
    {
      "cell_type": "code",
      "metadata": {
        "colab": {
          "base_uri": "https://localhost:8080/"
        },
        "id": "nBKBBT_vcNdM",
        "outputId": "d09402de-c788-4cad-cd2a-843149e05b07"
      },
      "source": [
        "# ejercicio \n",
        "\n",
        "import random\n",
        "print(random.random())\n",
        "print(int(random.uniform(5,100)))\n",
        "\n",
        "valores=[round(random.uniform(5,11),2) for x in range(20) ]\n",
        "print(valores)"
      ],
      "execution_count": 28,
      "outputs": [
        {
          "output_type": "stream",
          "name": "stdout",
          "text": [
            "0.9634137259850364\n",
            "27\n",
            "[10.16, 6.33, 8.8, 5.6, 11.0, 7.86, 5.41, 6.7, 10.47, 10.74, 5.24, 9.7, 10.15, 9.15, 7.03, 5.38, 8.92, 9.99, 8.61, 5.88]\n"
          ]
        }
      ]
    }
  ]
}