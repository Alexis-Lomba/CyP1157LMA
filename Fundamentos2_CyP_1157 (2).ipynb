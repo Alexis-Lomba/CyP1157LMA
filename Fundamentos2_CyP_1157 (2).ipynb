{
  "nbformat": 4,
  "nbformat_minor": 0,
  "metadata": {
    "colab": {
      "name": "Fundamentos2_CyP_1157.ipynb",
      "provenance": []
    },
    "kernelspec": {
      "name": "python3",
      "display_name": "Python 3"
    },
    "language_info": {
      "name": "python"
    }
  },
  "cells": [
    {
      "cell_type": "markdown",
      "metadata": {
        "id": "S48z1cYSFqdP"
      },
      "source": [
        "# Tipos de datros estrucutrados \n",
        "1. Listas\n",
        "2. Tuplas\n",
        "3. Diccioanrios\n",
        "4. Conjuntos"
      ]
    },
    {
      "cell_type": "markdown",
      "metadata": {
        "id": "fxAE7M4cF33k"
      },
      "source": [
        "# Listas\n",
        "\n",
        "- Tipo de dato que agrupa variables o valores\n",
        "- Se declara de dos formas\n",
        "        - usando [ ]\n",
        "        - usando list()\n",
        "        - usando un generador\n",
        "- Puede contener tipos de datos diversos (En otros lenguajes de prog. eso no es posible de forma directa)\n",
        "- Los elementos internos se seleccionan con []\n",
        "- Soporta slicing\n",
        "- Son mutables\n",
        "- GENERADORES [var for x in range 10(-10)]\n",
        "- Al ser una clase contiene muchos metodos utiles\n",
        "\n"
      ]
    },
    {
      "cell_type": "code",
      "metadata": {
        "colab": {
          "base_uri": "https://localhost:8080/"
        },
        "id": "6v-fcIOfGq8S",
        "outputId": "35c02bd0-b633-4889-9448-f5ffbddf3441"
      },
      "source": [
        "numeros=[10, 5, 2, 3, 1]\n",
        "print(numeros)\n",
        "\n",
        "numeros2=list()\n",
        "numeros2.append(10)\n",
        "numeros2.append(5)\n",
        "numeros2.append(2)\n",
        "numeros2.append(3)\n",
        "numeros2.append(1)\n",
        "print(numeros2)\n",
        "numeros[2]=20\n",
        "print(numeros)\n",
        "numeros[-1]=33\n",
        "numeros.append(88)\n",
        "print(numeros)"
      ],
      "execution_count": null,
      "outputs": [
        {
          "output_type": "stream",
          "name": "stdout",
          "text": [
            "[10, 5, 2, 3, 1]\n",
            "[10, 5, 2, 3, 1]\n",
            "[10, 5, 20, 3, 1]\n",
            "[10, 5, 20, 3, 33, 88]\n"
          ]
        }
      ]
    },
    {
      "cell_type": "code",
      "metadata": {
        "colab": {
          "base_uri": "https://localhost:8080/"
        },
        "id": "uZMtUJMpIeUW",
        "outputId": "0816748b-7612-4a28-b88d-d9265f4cc548"
      },
      "source": [
        "# tipos diversos\n",
        "\n",
        "cosas=[12, 2, True, \"Jose\", 1.57, [\"pera\", \"kiwi\", \"uva\"] ]\n",
        "print(cosas)\n",
        "print(cosas[1])\n",
        "print(cosas[4])\n",
        "print(cosas[5])\n",
        "print(cosas[5][1])\n",
        "print(cosas[3][1:3])\n",
        "cosas[3]=cosas[3].upper()\n",
        "print(cosas)"
      ],
      "execution_count": null,
      "outputs": [
        {
          "output_type": "stream",
          "name": "stdout",
          "text": [
            "[12, 2, True, 'Jose', 1.57, ['pera', 'kiwi', 'uva']]\n",
            "2\n",
            "1.57\n",
            "['pera', 'kiwi', 'uva']\n",
            "kiwi\n",
            "os\n",
            "[12, 2, True, 'JOSE', 1.57, ['pera', 'kiwi', 'uva']]\n"
          ]
        }
      ]
    },
    {
      "cell_type": "code",
      "metadata": {
        "colab": {
          "base_uri": "https://localhost:8080/"
        },
        "id": "Q-uBdTp8L2RS",
        "outputId": "3157a4af-6e3d-408d-a78a-ac567440c9ae"
      },
      "source": [
        "numeros=[1,2,3,4,5,6,7,8,9,10,11]\n",
        "print(numeros)\n",
        "#slicing\n",
        "# 1. 4 al 8\n",
        "print(numeros[3:8])\n",
        "# 2. [9,10]\n",
        "print(numeros[-3:-1])\n",
        "# 3. impirmir la lista al reves [11,10,9,...]\n",
        "print(numeros[::-1])"
      ],
      "execution_count": null,
      "outputs": [
        {
          "output_type": "stream",
          "name": "stdout",
          "text": [
            "[1, 2, 3, 4, 5, 6, 7, 8, 9, 10, 11]\n",
            "[4, 5, 6, 7, 8]\n",
            "[9, 10]\n",
            "[11, 10, 9, 8, 7, 6, 5, 4, 3, 2, 1]\n"
          ]
        }
      ]
    },
    {
      "cell_type": "code",
      "metadata": {
        "colab": {
          "base_uri": "https://localhost:8080/"
        },
        "id": "cJ2kkYnmPoJY",
        "outputId": "e9cb7af0-f4a9-4d2f-8787-7e60d6fb649f"
      },
      "source": [
        "# crear una lista con un generador\n",
        "numeros={x*3 for x in range(101) }\n",
        "print(numeros)"
      ],
      "execution_count": null,
      "outputs": [
        {
          "output_type": "stream",
          "name": "stdout",
          "text": [
            "{0, 3, 6, 9, 12, 15, 18, 21, 24, 27, 30, 33, 36, 39, 42, 45, 48, 51, 54, 57, 60, 63, 66, 69, 72, 75, 78, 81, 84, 87, 90, 93, 96, 99, 102, 105, 108, 111, 114, 117, 120, 123, 126, 129, 132, 135, 138, 141, 144, 147, 150, 153, 156, 159, 162, 165, 168, 171, 174, 177, 180, 183, 186, 189, 192, 195, 198, 201, 204, 207, 210, 213, 216, 219, 222, 225, 228, 231, 234, 237, 240, 243, 246, 249, 252, 255, 258, 261, 264, 267, 270, 273, 276, 279, 282, 285, 288, 291, 294, 297, 300}\n"
          ]
        }
      ]
    },
    {
      "cell_type": "markdown",
      "metadata": {
        "id": "Z6VpS0YKQX6D"
      },
      "source": [
        "# Funcion range()\n",
        "\n",
        "- Tienen los mismos componentes que slicing\n",
        "\n",
        "inicio,stop,incremento\n",
        "\n",
        "range(1,101,1)"
      ]
    },
    {
      "cell_type": "code",
      "metadata": {
        "colab": {
          "base_uri": "https://localhost:8080/"
        },
        "id": "QqWAjhg0QvKb",
        "outputId": "ca2b4525-2b02-44da-931c-8062b16da441"
      },
      "source": [
        "numeros={x for x in range(50, 101) }\n",
        "print(numeros)"
      ],
      "execution_count": null,
      "outputs": [
        {
          "output_type": "stream",
          "name": "stdout",
          "text": [
            "{50, 51, 52, 53, 54, 55, 56, 57, 58, 59, 60, 61, 62, 63, 64, 65, 66, 67, 68, 69, 70, 71, 72, 73, 74, 75, 76, 77, 78, 79, 80, 81, 82, 83, 84, 85, 86, 87, 88, 89, 90, 91, 92, 93, 94, 95, 96, 97, 98, 99, 100}\n"
          ]
        }
      ]
    },
    {
      "cell_type": "markdown",
      "metadata": {
        "id": "qb_1WQUQRJYL"
      },
      "source": [
        "# Metodos disponibles de las listas\n"
      ]
    },
    {
      "cell_type": "code",
      "metadata": {
        "colab": {
          "base_uri": "https://localhost:8080/"
        },
        "id": "fIb8KmXPRNUO",
        "outputId": "fa5f51cc-4b67-4cf9-9c48-fbeaa415d3ee"
      },
      "source": [
        "dir(list)"
      ],
      "execution_count": null,
      "outputs": [
        {
          "output_type": "execute_result",
          "data": {
            "text/plain": [
              "['__add__',\n",
              " '__class__',\n",
              " '__contains__',\n",
              " '__delattr__',\n",
              " '__delitem__',\n",
              " '__dir__',\n",
              " '__doc__',\n",
              " '__eq__',\n",
              " '__format__',\n",
              " '__ge__',\n",
              " '__getattribute__',\n",
              " '__getitem__',\n",
              " '__gt__',\n",
              " '__hash__',\n",
              " '__iadd__',\n",
              " '__imul__',\n",
              " '__init__',\n",
              " '__init_subclass__',\n",
              " '__iter__',\n",
              " '__le__',\n",
              " '__len__',\n",
              " '__lt__',\n",
              " '__mul__',\n",
              " '__ne__',\n",
              " '__new__',\n",
              " '__reduce__',\n",
              " '__reduce_ex__',\n",
              " '__repr__',\n",
              " '__reversed__',\n",
              " '__rmul__',\n",
              " '__setattr__',\n",
              " '__setitem__',\n",
              " '__sizeof__',\n",
              " '__str__',\n",
              " '__subclasshook__',\n",
              " 'append',\n",
              " 'clear',\n",
              " 'copy',\n",
              " 'count',\n",
              " 'extend',\n",
              " 'index',\n",
              " 'insert',\n",
              " 'pop',\n",
              " 'remove',\n",
              " 'reverse',\n",
              " 'sort']"
            ]
          },
          "metadata": {},
          "execution_count": 39
        }
      ]
    },
    {
      "cell_type": "code",
      "metadata": {
        "colab": {
          "base_uri": "https://localhost:8080/"
        },
        "id": "HhrfLE8cScYw",
        "outputId": "9ca1e8a3-1f0c-40a4-bce9-31ca372e917f"
      },
      "source": [
        "numeros=[4,1,15,8,22,34,50]\n",
        "print(numeros)\n",
        "numeros.append(99)\n",
        "print(numeros)\n",
        "\n",
        "numeros.clear()\n",
        "print(numeros)\n",
        "\n",
        "frutas=[\"uvas\", \"kiwi\", \"manzana\"]\n",
        "copia=frutas\n",
        "print(frutas)\n",
        "print(copia)\n",
        "frutas.append(\"naranaja\")\n",
        "print(frutas)\n",
        "print(copia)\n",
        "\n",
        "colores=[\"rojo\",\"azul\",\"blanco\"]\n",
        "copia2=colores.copy()\n",
        "print(colores)\n",
        "print(copia2)\n",
        "colores.append(\"verde\")\n",
        "print(colores)\n",
        "print(copia2)\n",
        "\n",
        "print(\"Numero de veces que aprece el 15\", numeros.count(15))\n",
        "\n",
        "#extend\n",
        "\n",
        "nombre=[\"Jose\",\"pedro\",\"karina\"]\n",
        "otrosnombres=[\"Josue\", \"Diana\",\"Dalia\"]\n",
        "\n",
        "print(nombre)\n",
        "print(otrosnombres)\n",
        "nombre =nombre+otrosnombres\n",
        "print(nombre)\n",
        "print(otrosnombres)\n",
        "\n",
        "#lo mismo con el metodo extend\n",
        "otrosnombres.extend([\"jesus\",\"maria\",\"jose\"])\n",
        "print(otrosnombres)\n",
        "print(\"Jesus esta en la pocision:\",otrosnombres.index(\"jesus\"))\n",
        "otrosnombres.insert(4,\"Espiritu santo\")\n",
        "print(otrosnombres)\n",
        "\n",
        "#pop\n",
        "resultado=otrosnombres.pop()\n",
        "print(otrosnombres)\n",
        "print(resultado)"
      ],
      "execution_count": null,
      "outputs": [
        {
          "output_type": "stream",
          "name": "stdout",
          "text": [
            "[4, 1, 15, 8, 22, 34, 50]\n",
            "[4, 1, 15, 8, 22, 34, 50, 99]\n",
            "[]\n",
            "['uvas', 'kiwi', 'manzana']\n",
            "['uvas', 'kiwi', 'manzana']\n",
            "['uvas', 'kiwi', 'manzana', 'naranaja']\n",
            "['uvas', 'kiwi', 'manzana', 'naranaja']\n",
            "['rojo', 'azul', 'blanco']\n",
            "['rojo', 'azul', 'blanco']\n",
            "['rojo', 'azul', 'blanco', 'verde']\n",
            "['rojo', 'azul', 'blanco']\n",
            "Numero de veces que aprece el 15 0\n",
            "['Jose', 'pedro', 'karina']\n",
            "['Josue', 'Diana', 'Dalia']\n",
            "['Jose', 'pedro', 'karina', 'Josue', 'Diana', 'Dalia']\n",
            "['Josue', 'Diana', 'Dalia']\n",
            "['Josue', 'Diana', 'Dalia', 'jesus', 'maria', 'jose']\n",
            "Jesus esta en la pocision: 3\n",
            "['Josue', 'Diana', 'Dalia', 'jesus', 'Espiritu santo', 'maria', 'jose']\n",
            "['Josue', 'Diana', 'Dalia', 'jesus', 'Espiritu santo', 'maria']\n",
            "jose\n"
          ]
        }
      ]
    },
    {
      "cell_type": "markdown",
      "metadata": {
        "id": "tSunRok8v7X_"
      },
      "source": [
        "# Tuplas\n",
        "\n",
        "### Caracteristicas\n",
        "\n",
        "- Son datos agrupados\n",
        "- Se declara usando\n",
        "        - ()\n",
        "        - tuple ()\n",
        "- Es una estructura secuencial, indexada a partir de 0\n",
        "- Pueden tener de 0 a n elementos \n",
        "- No son MUTABLES (no se puede: eliminar y/o cambiar)\n",
        "- Son buenas para almacenar informacion de consulta\n",
        "- Pueden al,acenar informacion de diferentes tipos de dato\n",
        "- Pueden estar anidadas\n",
        "- Tienen metodos utiles "
      ]
    },
    {
      "cell_type": "code",
      "metadata": {
        "colab": {
          "base_uri": "https://localhost:8080/"
        },
        "id": "-kT7dD1gw9uL",
        "outputId": "df4a9fbf-8d32-40f0-c2f3-82fc235a5de4"
      },
      "source": [
        "info = (\"juan23\",\"dios1234\", \"123.232.1.12\")\n",
        "print(info)\n",
        "print(info[1])\n",
        "# info[1]=\"patito1234\"   este es un error, ya que no es mutable\n",
        "\n",
        "numeros=(0,1,2,3,4,5,6,7,8,9,10,11,12,13,14,15)\n",
        "print(numeros[5:11])\n",
        "\n",
        "cosas=(info, numeros)\n",
        "print(cosas)\n",
        "print(cosas[1][5:11])\n",
        "print(cosas[0][2][4:7])"
      ],
      "execution_count": 14,
      "outputs": [
        {
          "output_type": "stream",
          "name": "stdout",
          "text": [
            "('juan23', 'dios1234', '123.232.1.12')\n",
            "dios1234\n",
            "(5, 6, 7, 8, 9, 10)\n",
            "(('juan23', 'dios1234', '123.232.1.12'), (0, 1, 2, 3, 4, 5, 6, 7, 8, 9, 10, 11, 12, 13, 14, 15))\n",
            "(5, 6, 7, 8, 9, 10)\n",
            "232\n"
          ]
        }
      ]
    },
    {
      "cell_type": "markdown",
      "metadata": {
        "id": "__H3YJQP0mvR"
      },
      "source": [
        "# Metodos de las duplas\n",
        "Son los mismos de las listas pero los que no involucren mutabilidad"
      ]
    },
    {
      "cell_type": "code",
      "metadata": {
        "id": "3oe_2zYE0xYH"
      },
      "source": [
        "dir (tuple)"
      ],
      "execution_count": null,
      "outputs": []
    },
    {
      "cell_type": "markdown",
      "metadata": {
        "id": "KFq1J1It2uxI"
      },
      "source": [
        "# Diccionario\n",
        "### Caracterisitcas  de los diccionarios\n",
        "\n",
        "- Agrupan datos pero no de forma no lineal\n",
        "- Se declaran con:\n",
        "  - {}\n",
        "  - dict()\n",
        "- Formado por pares del tipo llave:valor, donde:\n",
        "    - Lalve es de tipo string (siempre)\n",
        "    - Valor puede ser de cualquier tipo de datos, incluyendo los diccionarios\n",
        "- Se seleccionan con la llave de la forma [\"id_llave\"]\n",
        "- Son mutables\n",
        "- Son anidables\n",
        "- Son equivalenmtes al tipo ded ato JSON del lenguajes javascript (JS)"
      ]
    },
    {
      "cell_type": "code",
      "metadata": {
        "colab": {
          "base_uri": "https://localhost:8080/"
        },
        "id": "YURW133K40TZ",
        "outputId": "65d9b33e-b473-4565-9a03-efa8eead9f86"
      },
      "source": [
        "alumno={\"nombre\":\"Jose\"}\n",
        "print(alumno)\n",
        "print(alumno[\"nombre\"])\n",
        "alumno={\"nombre\":\"Jose\",\"no\":\"5629586289\",\"edad\":18}\n",
        "print(\"Edad del alumno: \", alumno[\"edad\"])\n",
        "print(alumno[\"nombre\"].upper())\n",
        "\n",
        "print(\"Alumno2\")\n",
        "alumno2=dict()     #{}\n",
        "alumno2[\"nombre\"]=\"jose\"\n",
        "print(alumno2)\n",
        "alumno2[\"No.\"]=\"3737737373\"\n",
        "alumno2[\"edad\"]=18\n",
        "print(alumno2)\n",
        "alumno2[\"edad\"]=alumno2[\"edad\"]+1\n",
        "print(alumno2)"
      ],
      "execution_count": 30,
      "outputs": [
        {
          "output_type": "stream",
          "name": "stdout",
          "text": [
            "{'nombre': 'Jose'}\n",
            "Jose\n",
            "Edad del alumno:  18\n",
            "JOSE\n",
            "Alumno2\n",
            "{'nombre': 'jose'}\n",
            "{'nombre': 'jose', 'No.': '3737737373', 'edad': 18}\n",
            "{'nombre': 'jose', 'No.': '3737737373', 'edad': 19}\n"
          ]
        }
      ]
    },
    {
      "cell_type": "code",
      "metadata": {
        "colab": {
          "base_uri": "https://localhost:8080/"
        },
        "id": "O9dubyI_8Qqo",
        "outputId": "e7077b9b-1e75-4a8c-894f-b82d491474f0"
      },
      "source": [
        "cliente={\"id\":\"CT2121\", \n",
        "         \"nombre\":\"Jose Pedroza Rosales\", \n",
        "         \"telefono\":\"casa=55454567  cel=5530302020\"}\n",
        "print(cliente)\n",
        "cliente={\"id\":\"CT2121\", \n",
        "         \"nombre\":{\n",
        "            \"nombre_pila\":[\"Jose\", \"Eduardo\"],\n",
        "            \"parterno\": \"Pedroza\",\n",
        "            \"materno\": \"Rosales\"\n",
        "          },\n",
        "         \"telefonos\":{\n",
        "             \"casa\":\"4373867386\",\n",
        "             \"trabajo\": \"3586356356\",\n",
        "             \"celular\":\"5672365745\"\n",
        "          },\n",
        "         \"productos\":{\n",
        "            \"ahorros\": {\"numero_cuenta\":\"7882\", \"ahorro\": 2500.5},\n",
        "            \"tarjetas\":[\n",
        "                         {\"tipo\": \"debito\", \"saldo\": 10000.5},\n",
        "                         {\"tipo\": \"credito preferente\", \"limite\": 250000},\n",
        "                         {\"tipo\": \"lite\", \"limite\":25000.5} \n",
        "            ]\n",
        "          },\n",
        "         \"direccion\":{\n",
        "             \"calle\":\"Av, Central\",\n",
        "             \"numero\":\"125\",\n",
        "             \"coolonia\":\"impulsora\",\n",
        "             \"delegacion\":\"neza\",\n",
        "             \"estado\":{ \n",
        "                 \"clave\":15,\n",
        "                 \"nombre_corto\":\"EdoMex\",\n",
        "                 \"nombre\":\"Estado de Mexico\"\n",
        "                 }\n",
        "          }\n",
        "        }\n",
        "\n",
        "print(cliente[\"telefonos\"][\"casa\"])\n",
        "print(cliente[\"productos\"][\"ahorros\"][\"ahorro\"])\n",
        "print(cliente[\"productos\"][\"tarjetas\"][2][\"limite\"])\n",
        "print(cliente[\"direccion\"][\"estado\"][\"nombre\"].upper())"
      ],
      "execution_count": 18,
      "outputs": [
        {
          "output_type": "stream",
          "name": "stdout",
          "text": [
            "{'id': 'CT2121', 'nombre': 'Jose Pedroza Rosales', 'telefono': 'casa=55454567  cel=5530302020'}\n",
            "4373867386\n",
            "2500.5\n",
            "25000.5\n",
            "ESTADO DE MEXICO\n"
          ]
        }
      ]
    }
  ]
}