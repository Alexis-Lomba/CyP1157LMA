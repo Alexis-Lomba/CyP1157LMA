{
  "nbformat": 4,
  "nbformat_minor": 0,
  "metadata": {
    "colab": {
      "name": "Tarea6.ipynb",
      "provenance": []
    },
    "kernelspec": {
      "name": "python3",
      "display_name": "Python 3"
    },
    "language_info": {
      "name": "python"
    }
  },
  "cells": [
    {
      "cell_type": "code",
      "metadata": {
        "colab": {
          "base_uri": "https://localhost:8080/"
        },
        "id": "_4d9ThGRnnOP",
        "outputId": "176731c0-9b9e-45d0-aa77-f47d7170422d"
      },
      "source": [
        "# 2.1\n",
        "\n",
        "N=int(input(\"Cuantos sonidos fueron?: \"))\n",
        "if N>0: \n",
        "    T=N/4 + 40\n",
        "    print(f\"La temperatura es {T} en grados Fahrenheit\")\n",
        "else: \n",
        "    print(\"No se pudo calcualr la tempeartura en basse a los sonidos del grillo\")"
      ],
      "execution_count": null,
      "outputs": [
        {
          "output_type": "stream",
          "name": "stdout",
          "text": [
            "Cuantos sonidos fueron?: -5\n",
            "No se pudo calcualr la tempeartura en basse a los sonidos del grillo\n"
          ]
        }
      ]
    },
    {
      "cell_type": "code",
      "metadata": {
        "colab": {
          "base_uri": "https://localhost:8080/"
        },
        "id": "ls9slOHOpUte",
        "outputId": "25aec49d-1d8a-4923-9752-83b0aadc946f"
      },
      "source": [
        "# 2.2\n",
        "\n",
        "P=int(input(\"Ingresa el primer numero entero: \"))\n",
        "Q=int(input(\"Ingresa el segundo numero entero: \"))\n",
        "f=P**3+Q**4-2*P**2\n",
        "if f<680:\n",
        "    print(P)\n",
        "    print(Q)\n",
        "else:\n",
        "    print(\"La expresion es mayor a 680\")"
      ],
      "execution_count": null,
      "outputs": [
        {
          "output_type": "stream",
          "name": "stdout",
          "text": [
            "Ingresa el primer numero entero: 6\n",
            "Ingresa el segundo numero entero: 8\n",
            "La expresion es mayor a 680\n"
          ]
        }
      ]
    },
    {
      "cell_type": "code",
      "metadata": {
        "colab": {
          "base_uri": "https://localhost:8080/"
        },
        "id": "O3X6YHIBq65f",
        "outputId": "02682668-cf8e-44a4-8046-ae1fe75825ab"
      },
      "source": [
        "# 2.3\n",
        "\n",
        "A=float(input(\"Ingresa el primer numero: \"))\n",
        "B=float(input(\"Ingresa el segundo numero: \"))\n",
        "C=float(input(\"Ingresa el tercer numero: \"))\n",
        "DIS=B**2-4*A*C\n",
        "print(DIS)\n",
        "if DIS>=0:\n",
        "    x1=((-B)+(DIS**0.5))/(2*A)\n",
        "    x2=((-B)-(DIS**0.5))/(2*A)\n",
        "    print(f\"Las raices reales son {x1} y {x2}\")\n",
        "else:\n",
        "    print(\"Las raices no son reales\")"
      ],
      "execution_count": null,
      "outputs": [
        {
          "output_type": "stream",
          "name": "stdout",
          "text": [
            "Ingresa el primer numero entero: 3\n",
            "Ingresa el segundo numero entero: 9\n",
            "Ingresa el tercer numero entero: 1.5\n",
            "63.0\n",
            "Las raices reales son -0.17712434446770464 y -2.8228756555322954\n"
          ]
        }
      ]
    },
    {
      "cell_type": "code",
      "metadata": {
        "colab": {
          "base_uri": "https://localhost:8080/"
        },
        "id": "emF-IB2mua20",
        "outputId": "a42f7b02-f525-44ce-e596-0f734fdbc9f1"
      },
      "source": [
        "# 2.4\n",
        "\n",
        "M=int(input(\"Cual es tu matricula?: \"))\n",
        "c1=float(input(\"Cual es tun primer calificacion?: \"))\n",
        "c2=float(input(\"Cual es tu segunda calificacion?: \"))\n",
        "c3=float(input(\"Cual es tu tercer calificacion?: \"))\n",
        "c4=float(input(\"Cual es tu cuarta calificacion?: \"))\n",
        "c5=float(input(\"Cual es tu quinta calificacion?: \"))\n",
        "pro=(c1+c2+c3+c4+c5)/5\n",
        "if pro>=6:\n",
        "    print(f\"Matricula  {M}\")\n",
        "    print(f\"Tu promedio es {pro}\")\n",
        "    print(\"APROBADO\")\n",
        "else: \n",
        "    print(f\"Matricula {M}\")\n",
        "    print(f\"Tu promedio es {pro}\")\n",
        "    print(\"NO APROBADO\")"
      ],
      "execution_count": null,
      "outputs": [
        {
          "output_type": "stream",
          "name": "stdout",
          "text": [
            "Cual es tu matricula?: 16500\n",
            "Cual es tun primer calificacion?: 6\n",
            "Cual es tu segunda calificacion?: 7.5\n",
            "Cual es tu tercer calificacion?: 8\n",
            "Cual es tu cuarta calificacion?: 9.5\n",
            "Cual es tu quinta calificacion?: 7\n",
            "Matricula  16500\n",
            "Tu promedio es 7.6\n",
            "APROBADO\n"
          ]
        }
      ]
    },
    {
      "cell_type": "code",
      "metadata": {
        "colab": {
          "base_uri": "https://localhost:8080/"
        },
        "id": "TqtCQxWGweAo",
        "outputId": "77aad4b3-6618-422b-f35e-a37a4e52f97c"
      },
      "source": [
        "# 2.5\n",
        "\n",
        "N=int(input(\"Ingresa un numero: \"))\n",
        "if N>0:\n",
        "    print(\"El numero es positivo\")\n",
        "elif N==0:\n",
        "    print(\"El numero es nulo\")\n",
        "elif N<0:\n",
        "    print(\"El numero es negativo\")"
      ],
      "execution_count": null,
      "outputs": [
        {
          "output_type": "stream",
          "name": "stdout",
          "text": [
            "Ingresa un numero: -15\n",
            "El numero es negativo\n"
          ]
        }
      ]
    },
    {
      "cell_type": "code",
      "metadata": {
        "colab": {
          "base_uri": "https://localhost:8080/"
        },
        "id": "LXNAHb71yrUZ",
        "outputId": "a81242cb-4b0d-438d-e349-f6178556d67c"
      },
      "source": [
        "# 2.6\n",
        "\n",
        "A=int(input(\"Ingresa un numero: \"))\n",
        "if A==0:\n",
        "    print(\"Es nulo\")\n",
        "if N%2!=0:\n",
        "    print(\"Es par\")\n",
        "elif (-1**A)<0:\n",
        "    print(\"Es impar\")"
      ],
      "execution_count": null,
      "outputs": [
        {
          "output_type": "stream",
          "name": "stdout",
          "text": [
            "Ingresa un numero: 6\n",
            "Es par\n"
          ]
        }
      ]
    },
    {
      "cell_type": "code",
      "metadata": {
        "colab": {
          "base_uri": "https://localhost:8080/"
        },
        "id": "5N1uBIdTmGQ2",
        "outputId": "9ad69ba0-d12a-4f02-874b-5ecf20d343de"
      },
      "source": [
        "# 2.7\n",
        "\n",
        "A=int(input(\"Ingresa el primer numero entero: \"))\n",
        "B=int(input(\"Ingresa el segundo numero entero: \"))\n",
        "C=int(input(\"Ingresa el tercer numero entero: \"))\n",
        "\n",
        "if A<B:\n",
        "    if B<C:\n",
        "        print(\"Los numeros estan en orden creciente\")\n",
        "    else:\n",
        "        print(\"Los numeros no estan en orden creciente\")\n",
        "else:\n",
        "    print(\"Los numeros no estan en orden creciente\")"
      ],
      "execution_count": null,
      "outputs": [
        {
          "output_type": "stream",
          "name": "stdout",
          "text": [
            "Ingresa el primer numero entero: 4\n",
            "Ingresa el segundo numero entero: 5\n",
            "Ingresa el tercer numero entero: 2\n",
            "Los numeros no estan en orden creciente\n"
          ]
        }
      ]
    },
    {
      "cell_type": "code",
      "metadata": {
        "colab": {
          "base_uri": "https://localhost:8080/"
        },
        "id": "AHuNe-xwnW-T",
        "outputId": "c8c516d1-9758-4121-e8c7-ca03d2acefe7"
      },
      "source": [
        "# 2.8\n",
        "\n",
        "monto=float(input(\"Cual fue el monto de tu compra?: \"))\n",
        "if monto<=500:\n",
        "    print(\"No hay descuento\")\n",
        "elif 500<monto<1000:\n",
        "    d=monto-(monto*.05)\n",
        "    print(d)\n",
        "elif 1000<monto<7000:\n",
        "    d=monto-(monto*.11)\n",
        "    print(d)\n",
        "elif 7000<monto<15000:\n",
        "    d=monto-(monto*.18)\n",
        "    print(d)\n",
        "elif monto>15000:\n",
        "    d=monto-(monto*.25)\n",
        "    print(d)"
      ],
      "execution_count": null,
      "outputs": [
        {
          "output_type": "stream",
          "name": "stdout",
          "text": [
            "Cual fue el monto de tu compra?: 25314\n",
            "18985.5\n"
          ]
        }
      ]
    },
    {
      "cell_type": "code",
      "metadata": {
        "colab": {
          "base_uri": "https://localhost:8080/"
        },
        "id": "S368qUk5pe5E",
        "outputId": "b98212ae-cb99-4bc2-f6e6-fdabc5e953ce"
      },
      "source": [
        "# 2.9\n",
        "\n",
        "prebas=float(input(\"Cual es el precio del producto: \"))\n",
        "if prebas>500:\n",
        "    pagar=(prebas-40)*.5+20*.3\n",
        "    print(\"Se debe de pagar \",pagar + prebas)\n",
        "elif prebas>40:\n",
        "    pagar=(prebas-40)*.4+20*.3\n",
        "    print(\"Se debe de pagar \",pagar+prebas)\n",
        "elif prebas>20:\n",
        "    pagar=(prebas-20)*.3\n",
        "    print(\"Se debe de pagar \",pagar+prebas)\n",
        "elif prebas<20:\n",
        "    print(\"Se debe de pagar\",prebas)"
      ],
      "execution_count": null,
      "outputs": [
        {
          "output_type": "stream",
          "name": "stdout",
          "text": [
            "Cual es el precio del producto: 17\n",
            "Se debe de pagar 17.0\n"
          ]
        }
      ]
    },
    {
      "cell_type": "code",
      "metadata": {
        "colab": {
          "base_uri": "https://localhost:8080/"
        },
        "id": "ZuXBAiHv8NlI",
        "outputId": "a0c2b774-13dc-476f-9c32-09921216cf37"
      },
      "source": [
        "# 2.10\n",
        "\n",
        "A=int(input(\"Ingresa el primer numero entero: \"))\n",
        "B=int(input(\"Ingresa el segundo numero entero: \"))\n",
        "C=int(input(\"Ingresa el tercer numero entero: \"))\n",
        "\n",
        "if A>B:\n",
        "    if A>C:\n",
        "        print(\"A es el mayor: \", A)\n",
        "elif A>B and A<C and A==C:\n",
        "    print(\"A y C son los mayores\", A, C)\n",
        "elif A>B and A<C and A!=C:\n",
        "    print(\"C es el mayor: \", C)\n",
        "elif A==B and A>C:\n",
        "    print(\"A y B son los mayores\")\n",
        "elif A==B and A==C:\n",
        "    print(\"A, B y C son iguales\")\n",
        "elif A<B and A==B and A<C and A!=C:\n",
        "    print(\"C es el mayor: \", C)\n",
        "elif A<B and A!=B and B>C:\n",
        "    print(\"B es el mayor: \", B)\n",
        "elif A<B and A!=B and B<C and B==C:\n",
        "    print (\"B y C son los mayores: \", B, C)\n",
        "elif A<B and A!=B and B<C and B!=C:\n",
        "    print(\"C es el mayor: \", C)\n"
      ],
      "execution_count": null,
      "outputs": [
        {
          "output_type": "stream",
          "name": "stdout",
          "text": [
            "Ingresa el primer numero entero: 17\n",
            "Ingresa el segundo numero entero: 17\n",
            "Ingresa el tercer numero entero: 17\n",
            "A, B y C son iguales\n"
          ]
        }
      ]
    },
    {
      "cell_type": "code",
      "metadata": {
        "id": "dxE3IAK9FweH",
        "colab": {
          "base_uri": "https://localhost:8080/"
        },
        "outputId": "4e2af2e4-cb0d-4734-cb62-1aecd2a61bc0"
      },
      "source": [
        "# 2.11\n",
        "\n",
        "c=int(input(\"Cual es tu clave geografica? \\nOpciones \\n12 America del Norte \\n15 America Central\\n18 America del Sur\\n19 Europa\\n23 Asia\\n25 Africa\\n29 Oceania\\nElija una: \"))\n",
        "n=float(input(\"Cuantos minutos tardaste?: \"))\n",
        "\n",
        "if c==12:\n",
        "    print(f\"El costo de la llamada fue de {2*n} \")\n",
        "elif c==15:\n",
        "    print(f\"El costo de la llamada fue de {2.2*n} \")\n",
        "elif c==18:\n",
        "    print(f\"El costo de la llamada fue de {4.5*n} \")\n",
        "elif c==19:\n",
        "    print(f\"El costo de la llamada fue de {3.5*n} \")\n",
        "elif c==23:\n",
        "    print(f\"El costo de la llamada fue de {6*n} \")\n",
        "elif c==25:\n",
        "    print(f\"El costo de la llamada fue de {6*n} \")\n",
        "elif c==29:\n",
        "    print(f\"El costo de la llamada fue de {5*n} \")"
      ],
      "execution_count": 10,
      "outputs": [
        {
          "output_type": "stream",
          "name": "stdout",
          "text": [
            "Cual es tu clave geografica? \n",
            "Opciones \n",
            "12 America del Norte \n",
            "15 America Central\n",
            "18 America del Sur\n",
            "19 Europa\n",
            "23 Asia\n",
            "25 Africa\n",
            "29 Oceania\n",
            "Elija una: 29\n",
            "Cuantos minutos tardaste?: 8\n",
            "El costo de la llamada fue de 40.0 \n"
          ]
        }
      ]
    },
    {
      "cell_type": "code",
      "metadata": {
        "colab": {
          "base_uri": "https://localhost:8080/"
        },
        "id": "urSchbN2eXy2",
        "outputId": "2a454bd8-dfcd-4285-9250-b621bc56df51"
      },
      "source": [
        "# 2.12\n",
        "\n",
        "s=float(input(\"Cual es tu sueldo: \"))\n",
        "c=int(input(\"Que categoria es: \"))\n",
        "h=int(input(\"Horas extras trabajadas: \"))\n",
        "\n",
        "if c==1:\n",
        "    print(f\"Tu suedlo final es de {s+(h*30)}\")\n",
        "elif c==2:\n",
        "    print(f\"Tu suedlo final es de {s+(h*38)}\")\n",
        "if c==3:\n",
        "    print(f\"Tu suedlo final es de {s+(h*50)}\")\n",
        "if c==4:\n",
        "    print(f\"Tu suedlo final es de {s+(h*70)}\")\n",
        "elif c>4:\n",
        "    print(f\"No se te pagan horas extras, tu sueldo es {s}\")"
      ],
      "execution_count": 18,
      "outputs": [
        {
          "output_type": "stream",
          "name": "stdout",
          "text": [
            "Cual es tu sueldo: 3200\n",
            "Que categoria es: 3\n",
            "Horas extras trabajadas: 8\n",
            "Tu suedlo final es de 3600.0\n"
          ]
        }
      ]
    },
    {
      "cell_type": "code",
      "metadata": {
        "colab": {
          "base_uri": "https://localhost:8080/"
        },
        "id": "GutAvkXDhzO7",
        "outputId": "4f29f160-ab8e-4c3d-d9eb-6747bb481633"
      },
      "source": [
        "# 2.13\n",
        "\n",
        "m=int(input(\"Tu matricula es: \"))\n",
        "s=int(input(\"Semestre: \"))\n",
        "c=str(input(\"Carrera: \"))\n",
        "p=float(input(\"Promedio: \"))\n",
        "\n",
        "if c=='Economia':\n",
        "    if s>=6 and p>=8.8:\n",
        "        print(f\"{m} {c} Aceptado\")\n",
        "    else:\n",
        "        print(f\"{m} {c} No aceptado\")\n",
        "if c=='Computacion':\n",
        "    if s>6 and p>8.5:\n",
        "        print(f\"{m} {c} Aceptado\")\n",
        "    else:\n",
        "        print(f\"{m} {c} No aceptado\")\n",
        "if c=='Administracion':\n",
        "    if s>5 and p>8.5:\n",
        "        print(f\"{m} {c} Aceptado\")\n",
        "    else:\n",
        "        print(f\"{m} {c} No aceptado\")\n",
        "if c=='Contabilidad':\n",
        "    if s>5 and p>8.5:\n",
        "        print(f\"{m} {c} Aceptado\")\n",
        "    else:\n",
        "        print(f\"{m} {c} No aceptado\")"
      ],
      "execution_count": 24,
      "outputs": [
        {
          "output_type": "stream",
          "name": "stdout",
          "text": [
            "Tu matricula es: 12121\n",
            "Semestre: 7\n",
            "Carrera: Contabilidad\n",
            "Promedio: 9\n",
            "12121 Contabilidad Aceptado\n"
          ]
        }
      ]
    }
  ]
}