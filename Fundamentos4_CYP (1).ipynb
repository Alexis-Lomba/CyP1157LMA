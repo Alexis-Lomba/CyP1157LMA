{
  "nbformat": 4,
  "nbformat_minor": 0,
  "metadata": {
    "colab": {
      "name": "Fundamentos4_CYP.ipynb",
      "provenance": []
    },
    "kernelspec": {
      "name": "python3",
      "display_name": "Python 3"
    },
    "language_info": {
      "name": "python"
    }
  },
  "cells": [
    {
      "cell_type": "markdown",
      "metadata": {
        "id": "Vz7zr8FgUSPc"
      },
      "source": [
        "# Modularidad (funciones)\n",
        "\n",
        "Una funcion es una unidad de codigo reutilizable , ademas de ser un mecanismo para organizar codigo\n",
        "\n",
        "La gran ventaja es de emplear funciones es simplificar la programacion \n",
        "\n",
        "### Estructura\n",
        "Una funcion puede tomar cualquier cantidad de parametros de entrada (de cualquier tipo) y retorna unicamnete un solo valor \n",
        "\n",
        "Un parametro de entrada es un vaslor que recibe la funcion para realizar sus operaciones\n",
        "\n",
        "Con una funcion se pueden hacer 2 coasas;\n",
        "1. definirla\n",
        "2. invocarla (ejecutarla)\n",
        "\n",
        "La gran ventaja de tener una funcion declara es que la podemos utilizar cuando se desee"
      ]
    },
    {
      "cell_type": "code",
      "metadata": {
        "id": "yoH_QK-NXYr7"
      },
      "source": [
        "def sumar(op1, op2):\n",
        "    res=op1+op2\n",
        "    return res"
      ],
      "execution_count": null,
      "outputs": []
    },
    {
      "cell_type": "code",
      "metadata": {
        "colab": {
          "base_uri": "https://localhost:8080/"
        },
        "id": "KuQke02uYGrJ",
        "outputId": "c522c57c-35ef-4503-e67a-2c59dddd16d9"
      },
      "source": [
        "res=sumar(2, 5)\n",
        "print(res)"
      ],
      "execution_count": null,
      "outputs": [
        {
          "output_type": "stream",
          "name": "stdout",
          "text": [
            "7\n"
          ]
        }
      ]
    },
    {
      "cell_type": "code",
      "metadata": {
        "colab": {
          "base_uri": "https://localhost:8080/"
        },
        "id": "8ga2_TFWaR7J",
        "outputId": "11193839-4ccb-4be3-8eda-af67601e21f1"
      },
      "source": [
        "def imprime_cuadro():\n",
        "    print(\"****\")\n",
        "    print(\"****\")\n",
        "    print(\"****\")\n",
        "    print(\"****\")\n",
        "\n",
        "imprime_cuadro()"
      ],
      "execution_count": null,
      "outputs": [
        {
          "output_type": "stream",
          "name": "stdout",
          "text": [
            "****\n",
            "****\n",
            "****\n",
            "****\n"
          ]
        }
      ]
    },
    {
      "cell_type": "markdown",
      "metadata": {
        "id": "Ivf9bfQYa_64"
      },
      "source": [
        "# valor de retorno de una funcion \n",
        "\n",
        "regla de oro---- una funcion siempre rertorna un SOLO VALOR. Inclusive si ese valor es el vacio"
      ]
    },
    {
      "cell_type": "code",
      "metadata": {
        "colab": {
          "base_uri": "https://localhost:8080/"
        },
        "id": "PEgNVM6Xc0JE",
        "outputId": "603c1a70-9c62-4432-9e7b-98884e562b10"
      },
      "source": [
        "# invocar sumar\n",
        "res = sumar(7 , 8)\n",
        "print(res)\n",
        "# invocar la funcion pintar cuadro\n",
        "res = imprime_cuadro( )\n",
        "print(res)"
      ],
      "execution_count": null,
      "outputs": [
        {
          "output_type": "stream",
          "name": "stdout",
          "text": [
            "15\n",
            "****\n",
            "****\n",
            "****\n",
            "****\n",
            "None\n"
          ]
        }
      ]
    },
    {
      "cell_type": "markdown",
      "metadata": {
        "id": "j5mslsUBdLJJ"
      },
      "source": [
        "# La palabra reservada None en python\n",
        "\n",
        "Esta palabra reservada significa vacio, equivalente a la palabra reservada void del lenguaje c, c++ y Java\n",
        "\n",
        "Se usa para indicar ya sea un return vacio o que se recibe como parametro un vacio"
      ]
    },
    {
      "cell_type": "code",
      "metadata": {
        "id": "b1D270r-fZFR"
      },
      "source": [
        "def multiplicar( valor , veces ) :\n",
        "    c = valor * veces\n",
        "    return c"
      ],
      "execution_count": null,
      "outputs": []
    },
    {
      "cell_type": "code",
      "metadata": {
        "id": "AVJ4jaK5faL3"
      },
      "source": [
        "res = multiplicar( 5 , 5 )\n",
        "print(res)"
      ],
      "execution_count": null,
      "outputs": []
    },
    {
      "cell_type": "code",
      "metadata": {
        "id": "BFLZ2p0vff2o"
      },
      "source": [
        "def multiplicar( valor , veces ):\n",
        "    if valor == None:\n",
        "        c=-1\n",
        "    else:\n",
        "        c = valor * veces\n",
        "    return c"
      ],
      "execution_count": null,
      "outputs": []
    },
    {
      "cell_type": "code",
      "metadata": {
        "id": "44hTnDjrfiOk"
      },
      "source": [
        "res = multiplicar( None, 5)\n",
        "print(res)"
      ],
      "execution_count": null,
      "outputs": []
    },
    {
      "cell_type": "markdown",
      "metadata": {
        "id": "ExPgMEjxfotk"
      },
      "source": [
        "# Parametros y argumentos\n",
        "Son conceptos relacionados y su diferencia esta centrada en el moemnto que se emplea en una funcion\n",
        "\n",
        "Es decir en la funcion sumar de arriba cuando se declara se le llama parametroy cuando se invoca se le llama argumento"
      ]
    },
    {
      "cell_type": "markdown",
      "metadata": {
        "id": "9cLGy5Jlgfzu"
      },
      "source": [
        "# argumentos pocsionales\n",
        "\n",
        "En python es posible determinar a que parametro estan dirigidos los argumentos segun su pocision"
      ]
    },
    {
      "cell_type": "code",
      "metadata": {
        "id": "D9KuOFAXgrgY"
      },
      "source": [
        "def dividir(op1,op2):\n",
        "    c=op1/op2\n",
        "    return c"
      ],
      "execution_count": 4,
      "outputs": []
    },
    {
      "cell_type": "code",
      "metadata": {
        "colab": {
          "base_uri": "https://localhost:8080/"
        },
        "id": "5i-OT8eSg1on",
        "outputId": "0cafd40e-0d50-44c0-81e0-27f2e97b3200"
      },
      "source": [
        "num1=25\n",
        "num2=5\n",
        "res=dividir(num1, num2) \n",
        "print(res)\n",
        "res=dividir(num2, num1) \n",
        "print(res)"
      ],
      "execution_count": 6,
      "outputs": [
        {
          "output_type": "stream",
          "name": "stdout",
          "text": [
            "5.0\n",
            "0.2\n"
          ]
        }
      ]
    },
    {
      "cell_type": "markdown",
      "metadata": {
        "id": "8enH6RoQhS4a"
      },
      "source": [
        "# Argumentos con palabras clave (keywords)\n",
        "\n",
        "Es la posibilidad de indicarles a la funcion en tiempo de ejecucion a que parametro va dirjido un argumento de entrada"
      ]
    },
    {
      "cell_type": "code",
      "source": [
        "res=dividir(op2=num2, op1=num1)\n",
        "print(res)"
      ],
      "metadata": {
        "colab": {
          "base_uri": "https://localhost:8080/"
        },
        "id": "xvaTuR4G9h6g",
        "outputId": "e2521aa4-1e40-4273-84ef-50d731897656"
      },
      "execution_count": 7,
      "outputs": [
        {
          "output_type": "stream",
          "name": "stdout",
          "text": [
            "5.0\n"
          ]
        }
      ]
    },
    {
      "cell_type": "markdown",
      "source": [
        "# Argumento por defecto\n",
        "\n",
        "Es la capacidad de las funciones de establecer un valor por defecto (default).\n",
        "\n",
        "Si no se envia un argumento a dicho parametro entonces se asigna el que el programador designo como default"
      ],
      "metadata": {
        "id": "A_CrNGG2-Dip"
      }
    },
    {
      "cell_type": "code",
      "source": [
        "def dividir(op1, op2=2):\n",
        "    c=op1/op2\n",
        "    return c\n",
        "print(dividir(25))"
      ],
      "metadata": {
        "colab": {
          "base_uri": "https://localhost:8080/"
        },
        "id": "hIB3C2xc-dAT",
        "outputId": "e95db6a2-d36a-4dc9-ab89-dcc4e915cefd"
      },
      "execution_count": 9,
      "outputs": [
        {
          "output_type": "stream",
          "name": "stdout",
          "text": [
            "12.5\n"
          ]
        }
      ]
    },
    {
      "cell_type": "code",
      "source": [
        "help(print)"
      ],
      "metadata": {
        "colab": {
          "base_uri": "https://localhost:8080/"
        },
        "id": "3lRWGzDF_N3D",
        "outputId": "3a459441-78f2-461e-88ba-b07dfe553524"
      },
      "execution_count": 10,
      "outputs": [
        {
          "output_type": "stream",
          "name": "stdout",
          "text": [
            "Help on built-in function print in module builtins:\n",
            "\n",
            "print(...)\n",
            "    print(value, ..., sep=' ', end='\\n', file=sys.stdout, flush=False)\n",
            "    \n",
            "    Prints the values to a stream, or to sys.stdout by default.\n",
            "    Optional keyword arguments:\n",
            "    file:  a file-like object (stream); defaults to the current sys.stdout.\n",
            "    sep:   string inserted between values, default a space.\n",
            "    end:   string appended after the last value, default a newline.\n",
            "    flush: whether to forcibly flush the stream.\n",
            "\n"
          ]
        }
      ]
    },
    {
      "cell_type": "markdown",
      "source": [
        "Este concepto se puede ejemplificar con la funcion **print**.\n"
      ],
      "metadata": {
        "id": "8NqJvuZr_HSC"
      }
    },
    {
      "cell_type": "code",
      "source": [
        "nombre=\"Jose\"\n",
        "edad=18\n",
        "print(nombre,edad, sep=';)') # el sep es la separacion\n",
        "print(\"hola\", end=\" \")\n",
        "print(\"------------------\")"
      ],
      "metadata": {
        "colab": {
          "base_uri": "https://localhost:8080/"
        },
        "id": "iAAdwNAa_sPI",
        "outputId": "ab23fa55-49ac-4536-9d53-dd1b79751fdb"
      },
      "execution_count": 17,
      "outputs": [
        {
          "output_type": "stream",
          "name": "stdout",
          "text": [
            "Jose;)18\n",
            "hola ------------------\n"
          ]
        }
      ]
    },
    {
      "cell_type": "markdown",
      "source": [
        "# ejercicio de Argumentos pocisionales\n",
        "\n"
      ],
      "metadata": {
        "id": "spE1c3IqAq3X"
      }
    },
    {
      "cell_type": "code",
      "source": [
        "def comanda(comensal=1,primer=\"Consome\", segundo=\"Arroz rojo\", tercero=\"Enchiladas\"):\n",
        "    print(f\"El comensal {comensal} quiere: \")\n",
        "    print(\"\\tEntrada: \", primer)\n",
        "    print(\"\\tPlato fuerte: \", segundo)\n",
        "    print(\"\\tPlato fuerte: \", tercero)\n",
        "\n",
        "comanda()\n",
        "\n",
        "comanda(3, \"Ensalada\", \"arroz blancco\", \"esparragos al horno\")\n",
        "comanda(primer=\"Ensalada\", segundo=\"arroz blancco\", tercero=\"esparragos al horno\", comensal=3)"
      ],
      "metadata": {
        "colab": {
          "base_uri": "https://localhost:8080/"
        },
        "id": "IKhAzUAKAzea",
        "outputId": "6fe1eeaf-0688-4c83-bf63-134d0fc3392f"
      },
      "execution_count": 28,
      "outputs": [
        {
          "output_type": "stream",
          "name": "stdout",
          "text": [
            "El comensal 1 quiere: \n",
            "\tEntrada:  Consome\n",
            "\tPlato fuerte:  Arroz rojo\n",
            "\tPlato fuerte:  Enchiladas\n",
            "El comensal 3 quiere: \n",
            "\tEntrada:  Ensalada\n",
            "\tPlato fuerte:  arroz blancco\n",
            "\tPlato fuerte:  esparragos al horno\n",
            "El comensal 3 quiere: \n",
            "\tEntrada:  Ensalada\n",
            "\tPlato fuerte:  arroz blancco\n",
            "\tPlato fuerte:  esparragos al horno\n"
          ]
        }
      ]
    },
    {
      "cell_type": "markdown",
      "source": [
        "# argumentos enviados en grupo en una tupla\n",
        "Esto sirve para enviar multiples argumentos a una funcion empleando el comodin *.\n",
        "                \n",
        "                def mifun(arga*):\n",
        "                    <cuerpo de la funcion>"
      ],
      "metadata": {
        "id": "UGUapf-jDimu"
      }
    },
    {
      "cell_type": "code",
      "source": [
        "def comanda2(*opciones):\n",
        "    #print(opciones)\n",
        "    print(f\"El comensal {opciones[0]} pidio:\")\n",
        "    print(\"\\tEntradada:\",opciones[1])\n",
        "    print(\"\\tSegundo:\",opciones[2])\n",
        "    print(\"\\tPlato fuerte:\",opciones[3])\n",
        "    print(\"\\tIndicaciones extras:\")\n",
        "    for instruccion in opciones[4::]:\n",
        "        print(\"\\n\",instruccion)\n",
        "comanda2(1, \"sopa de fideo\",\"arroz\",\"pechuga asada\", \"la arrachera aun se mueva\",\"Postre gelatina\" )"
      ],
      "metadata": {
        "colab": {
          "base_uri": "https://localhost:8080/"
        },
        "id": "kyjXToUZEMLu",
        "outputId": "75398bbe-179d-48c9-be81-cd6ba498dd61"
      },
      "execution_count": 36,
      "outputs": [
        {
          "output_type": "stream",
          "name": "stdout",
          "text": [
            "El comensal 1 pidio:\n",
            "\tEntradada: sopa de fideo\n",
            "\tSegundo: arroz\n",
            "\tPlato fuerte: pechuga asada\n",
            "\tIndicaciones extras:\n",
            "\n",
            " la arrachera aun se mueva\n",
            "\n",
            " Postre gelatina\n"
          ]
        }
      ]
    },
    {
      "cell_type": "markdown",
      "source": [
        "# argumentos seriados en grupo e un diccionario\n",
        "\n",
        "Es el mismo concepto que el anterior pero se usa el comodin ** y se mapea a un diccionario"
      ],
      "metadata": {
        "id": "xld1oDzZG2vR"
      }
    },
    {
      "cell_type": "code",
      "source": [
        "def comanda3(**opciones):\n",
        "    ops=opciones.keys()\n",
        "    print(ops)\n",
        "    for key in ops:\n",
        "        print(f\"{key}={opciones[key]}\")\n",
        "\n",
        "\n",
        "\n",
        "comanda3(segundo=\"arroz blanco\",tercero=\"Esparragos al horno\",primer=\"Ensalada\",comensal=3)   "
      ],
      "metadata": {
        "colab": {
          "base_uri": "https://localhost:8080/"
        },
        "id": "ezCoIdrlHGHq",
        "outputId": "beba8b8a-28f1-435a-ae65-232708947a52"
      },
      "execution_count": 41,
      "outputs": [
        {
          "output_type": "stream",
          "name": "stdout",
          "text": [
            "dict_keys(['segundo', 'tercero', 'primer', 'comensal'])\n",
            "segundo=arroz blanco\n",
            "tercero=Esparragos al horno\n",
            "primer=Ensalada\n",
            "comensal=3\n"
          ]
        }
      ]
    },
    {
      "cell_type": "markdown",
      "source": [
        "# modularidad y biblioteca \n",
        "Todos los lenguajes de computacion tienen la capacidad de compartir codigo entre la comunidad de porgrmadores\n",
        "\n",
        "Para ello cada lenguyaje establece un mecanismo para escribir y compartir biblioteca"
      ],
      "metadata": {
        "id": "hN4nLe7xJpBt"
      }
    },
    {
      "cell_type": "code",
      "source": [
        "!pip install simple_chalk"
      ],
      "metadata": {
        "colab": {
          "base_uri": "https://localhost:8080/"
        },
        "id": "oPKH1d94L567",
        "outputId": "7ecf730f-a9aa-448b-89c2-3926d1f5fe3e"
      },
      "execution_count": 43,
      "outputs": [
        {
          "output_type": "stream",
          "name": "stdout",
          "text": [
            "Collecting simple_chalk\n",
            "  Downloading simple_chalk-0.1.0.tar.gz (13 kB)\n",
            "Building wheels for collected packages: simple-chalk\n",
            "  Building wheel for simple-chalk (setup.py) ... \u001b[?25l\u001b[?25hdone\n",
            "  Created wheel for simple-chalk: filename=simple_chalk-0.1.0-py3-none-any.whl size=22163 sha256=b9da00d2bb566429a8a4605e73317ad63ccc48c8ecc48f9d0843522e50fd7fb9\n",
            "  Stored in directory: /root/.cache/pip/wheels/24/e2/84/d54838032016039eef79df1137b91defaa6db068d825dfcdcd\n",
            "Successfully built simple-chalk\n",
            "Installing collected packages: simple-chalk\n",
            "Successfully installed simple-chalk-0.1.0\n"
          ]
        }
      ]
    },
    {
      "cell_type": "code",
      "source": [
        "from simple_chalk import chalk, yellow\n",
        "print(chalk.yellow(\"Hola en color amarillo\"))"
      ],
      "metadata": {
        "colab": {
          "base_uri": "https://localhost:8080/"
        },
        "id": "eZpTa2PZM2fd",
        "outputId": "f8fffcdb-1525-443a-c700-e19137fd702b"
      },
      "execution_count": 46,
      "outputs": [
        {
          "output_type": "stream",
          "name": "stdout",
          "text": [
            "\u001b[33mHola en color amarillo\u001b[0m\n"
          ]
        }
      ]
    },
    {
      "cell_type": "markdown",
      "source": [
        "# como escribo un modulo (biblioteca)?\n",
        "\n",
        "se define en un archivo de biblioteca "
      ],
      "metadata": {
        "id": "Q6XrINLsO_Hb"
      }
    },
    {
      "cell_type": "code",
      "source": [
        "!cat mi_modulo.py"
      ],
      "metadata": {
        "colab": {
          "base_uri": "https://localhost:8080/"
        },
        "id": "niZZeqtXPNA4",
        "outputId": "845ffedb-6d48-4afe-adba-b94061b32fea"
      },
      "execution_count": 48,
      "outputs": [
        {
          "output_type": "stream",
          "name": "stdout",
          "text": [
            "def sumar(a,b):\r\n",
            "    return a+b\r\n",
            "\r\n",
            "def mi_print(texto, final):\r\n",
            "    print(\"Super:\", text, end=final)"
          ]
        }
      ]
    },
    {
      "cell_type": "code",
      "source": [
        "import mi_modulo\n",
        "\n",
        "res=mi_modulo.sumar(7,5)\n",
        "print(res)\n",
        "\n",
        "mi_modulo.mi_print(\"JEsus\", \"\\n\")"
      ],
      "metadata": {
        "colab": {
          "base_uri": "https://localhost:8080/"
        },
        "id": "nsbRxEwHQrn4",
        "outputId": "08e8e306-b1d1-4000-f7a7-a44b287b6a9c"
      },
      "execution_count": 1,
      "outputs": [
        {
          "output_type": "stream",
          "name": "stdout",
          "text": [
            "12\n",
            "Super: JEsus\n"
          ]
        }
      ]
    },
    {
      "cell_type": "code",
      "source": [
        "from mi_modulo import sumar #este comando se usa para traer una parte del modulo\n",
        "res = sumar( 5 , 3 )\n",
        "print( res )"
      ],
      "metadata": {
        "colab": {
          "base_uri": "https://localhost:8080/"
        },
        "id": "jWZkbRQjR8ew",
        "outputId": "09d92dda-4b0e-428a-8f29-a6671bc0366f"
      },
      "execution_count": 2,
      "outputs": [
        {
          "output_type": "stream",
          "name": "stdout",
          "text": [
            "8\n"
          ]
        }
      ]
    },
    {
      "cell_type": "markdown",
      "source": [
        "# Manejo de achivos con python\n",
        "\n",
        "- leer archivos\n",
        "- escribir en archivos\n",
        "- manipular la informacion leida desde un archivo\n",
        "- formatos de archivo"
      ],
      "metadata": {
        "id": "egPEE8l1TOpG"
      }
    },
    {
      "cell_type": "code",
      "source": [
        "archivo=open(\"salida.txt\", \"wt\")\n",
        "archivo.write(\"hola mundo\")\n",
        "archivo.close()"
      ],
      "metadata": {
        "id": "Oo-og7FQS4HW"
      },
      "execution_count": 3,
      "outputs": []
    },
    {
      "cell_type": "code",
      "source": [
        "!cat salida.txt"
      ],
      "metadata": {
        "colab": {
          "base_uri": "https://localhost:8080/"
        },
        "id": "4waGtOhWTcGt",
        "outputId": "8f0390eb-4d43-44fc-fb44-8a444d6e2467"
      },
      "execution_count": 4,
      "outputs": [
        {
          "output_type": "stream",
          "name": "stdout",
          "text": [
            "hola mundo"
          ]
        }
      ]
    }
  ]
}