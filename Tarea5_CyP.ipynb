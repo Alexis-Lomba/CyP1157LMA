{
  "nbformat": 4,
  "nbformat_minor": 0,
  "metadata": {
    "colab": {
      "name": "Tarea5_CyP.ipynb",
      "provenance": []
    },
    "kernelspec": {
      "name": "python3",
      "display_name": "Python 3"
    },
    "language_info": {
      "name": "python"
    }
  },
  "cells": [
    {
      "cell_type": "code",
      "metadata": {
        "colab": {
          "base_uri": "https://localhost:8080/"
        },
        "id": "mUZ-IP-LavNF",
        "outputId": "b375deef-e012-475b-bdb5-00896252f7f1"
      },
      "source": [
        "# 1.\n",
        "\n",
        "print(\"Dame dos numeros enteros diferentes entre si\")\n",
        "a=int(input(\"Dame un numero entero: \"))\n",
        "b=int(input(\"Dame un segundo numero entero: \"))\n",
        "\n",
        "if a>b:\n",
        "    print(f\"El numero mayor es: {a}\")\n",
        "    print(f\"El numeor menor es: {b}\")\n",
        "elif b>a:\n",
        "    print(f\"El numero mayor es: {b}\")\n",
        "    print(f\"El numero menor es: {a}\")\n",
        "else:\n",
        "    print(f\"Los numeros son iguales\")\n",
        "   "
      ],
      "execution_count": 13,
      "outputs": [
        {
          "output_type": "stream",
          "name": "stdout",
          "text": [
            "Dame dos numeros enteros diferentes entre si\n",
            "Dame un numero entero: 1\n",
            "Dame un segundo numero entero: 1\n",
            "Los numeros son iguales\n"
          ]
        }
      ]
    },
    {
      "cell_type": "code",
      "metadata": {
        "colab": {
          "base_uri": "https://localhost:8080/"
        },
        "id": "Pq_L_E1tjBDR",
        "outputId": "2def7527-a66d-4307-f20a-ce71e109a8af"
      },
      "source": [
        "# 2.\n",
        "\n",
        "print(\"Dame tres numeros enteros diferentes entre si\")\n",
        "a=int(input(\"Dame un numero entero: \"))\n",
        "b=int(input(\"Dame un segundo numero entero: \"))\n",
        "c=int(input(\"Dame un tercer numero entero: \"))\n",
        "\n",
        "if a>b:\n",
        "    if a>c:\n",
        "        print(f\"El numero mayor es: {a}\")\n",
        "if a<b:\n",
        "    if b>c:\n",
        "        print(f\"El numero mayor es: {b}\")\n",
        "if a<b:\n",
        "    if b<c:\n",
        "        print(f\"El numero mayor es: {c}\")\n",
        "if a<b:\n",
        "    if a<c:\n",
        "        print(f\"El numero menor es: {a}\")\n",
        "if a>b:\n",
        "    if b<c:\n",
        "        print(f\"El numero menor es: {b}\")\n",
        "if a>c:\n",
        "    if b>c:\n",
        "        print(f\"El numero menor es: {c}\")\n",
        "else: \n",
        "    print(\"Todos los numeros son iguales\")"
      ],
      "execution_count": null,
      "outputs": [
        {
          "output_type": "stream",
          "name": "stdout",
          "text": [
            "Dame un numero entero: 18\n",
            "Dame un segundo numero entero: 17\n",
            "Dame un tercer numero entero: 16\n",
            "El numero mayor es: 18\n",
            "El numero menor es: 16\n"
          ]
        }
      ]
    },
    {
      "cell_type": "code",
      "metadata": {
        "id": "5ij4E12NnvL7",
        "colab": {
          "base_uri": "https://localhost:8080/"
        },
        "outputId": "225be621-faf8-400a-e7ec-ba6d863ac789"
      },
      "source": [
        "# 3. \n",
        "\n",
        "print(\"Dame 3 numeros enteros diferentes entre si\")\n",
        "a=int(input(\"Dame un numero entero: \"))\n",
        "b=int(input(\"Dame un segundo numero entero: \"))\n",
        "c=int(input(\"Dame un tecer numero entero: \"))\n",
        "\n",
        "if a<b:\n",
        "    if a<c:\n",
        "        print(f\"El numero menor es: {a}\")\n",
        "if a>b: \n",
        "    if b<c:\n",
        "        print(f\"El numero menor es: {b}\")\n",
        "if a>c:\n",
        "    if b>c:\n",
        "        print(f\"El numero menor es: {c}\")\n",
        "\n",
        "else:\n",
        "    print(\"Los numeros son iguales\")"
      ],
      "execution_count": 7,
      "outputs": [
        {
          "output_type": "stream",
          "name": "stdout",
          "text": [
            "Dame un numero entero: 1\n",
            "Dame un segundo numero entero: 1\n",
            "Dame un tecer numero entero: 1\n",
            "Los numeros son iguales\n"
          ]
        }
      ]
    },
    {
      "cell_type": "code",
      "metadata": {
        "colab": {
          "base_uri": "https://localhost:8080/"
        },
        "id": "O2qNJ9X_HiWO",
        "outputId": "b5b71efb-54ab-4de1-eb36-da8f30abc501"
      },
      "source": [
        "# 4.\n",
        "\n",
        "print(\"Dame 4 numeros enteros diferentes entre si\")\n",
        "a=int(input(\"Dame un numero entero: \"))\n",
        "b=int(input(\"Dame un segundo numero entero: \"))\n",
        "c=int(input(\"Dame un tercer numero entero: \"))\n",
        "d=int(input(\"Dame un cuarto numero entero: \"))\n",
        "\n",
        "if a>b:\n",
        "    if a>c:\n",
        "        if a>d:\n",
        "            print(f\"El numero mayor es: a={a}\")\n",
        "if a<b:\n",
        "    if b>c:\n",
        "        if b>d:\n",
        "            print(f\"El numero mayor es: b={b}\")\n",
        "if a<b:\n",
        "    if b<c:\n",
        "        if c>d: \n",
        "            print(f\"El numero mayor es: c={c}\")\n",
        "if a<d:\n",
        "    if b<d:\n",
        "        if c<d:\n",
        "            print(f\"El numero mayor es: d={d}\")\n",
        "if a<b:\n",
        "    if a<c:\n",
        "        if a<d:\n",
        "            print(f\"El numero menor es: a={a}\")\n",
        "if a>b:\n",
        "    if b<c:\n",
        "        if b<d:\n",
        "            print(f\"El numero menor es: b={b}\")\n",
        "if a>c:\n",
        "    if b>c:\n",
        "        if c<d:\n",
        "            print(f\"El numero menor es: c={c}\")\n",
        "if a>d:\n",
        "    if b>d:\n",
        "        if c>d:\n",
        "            print(f\"El numero menor es: d={d}\")\n",
        "else: \n",
        "    print(\"Todos los numeros son iguales\")"
      ],
      "execution_count": 12,
      "outputs": [
        {
          "output_type": "stream",
          "name": "stdout",
          "text": [
            "Dame un numero entero: 3\n",
            "Dame un segundo numero entero: 2\n",
            "Dame un tercer numero entero: 1\n",
            "Dame un cuarto numero entero: 5\n",
            "El numero mayor es: d=5\n",
            "El numero menor es: c=1\n",
            "Todos los numeros son iguales\n"
          ]
        }
      ]
    }
  ]
}