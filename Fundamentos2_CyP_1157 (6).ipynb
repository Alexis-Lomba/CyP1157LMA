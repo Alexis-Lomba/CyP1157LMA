{
  "nbformat": 4,
  "nbformat_minor": 0,
  "metadata": {
    "colab": {
      "name": "Fundamentos2_CyP_1157.ipynb",
      "provenance": [],
      "collapsed_sections": []
    },
    "kernelspec": {
      "name": "python3",
      "display_name": "Python 3"
    },
    "language_info": {
      "name": "python"
    }
  },
  "cells": [
    {
      "cell_type": "markdown",
      "metadata": {
        "id": "S48z1cYSFqdP"
      },
      "source": [
        "# Tipos de datros estrucutrados \n",
        "1. Listas\n",
        "2. Tuplas\n",
        "3. Diccioanrios\n",
        "4. Conjuntos"
      ]
    },
    {
      "cell_type": "markdown",
      "metadata": {
        "id": "fxAE7M4cF33k"
      },
      "source": [
        "# Listas\n",
        "\n",
        "- Tipo de dato que agrupa variables o valores\n",
        "- Se declara de dos formas\n",
        "        - usando [ ]\n",
        "        - usando list()\n",
        "        - usando un generador\n",
        "- Puede contener tipos de datos diversos (En otros lenguajes de prog. eso no es posible de forma directa)\n",
        "- Los elementos internos se seleccionan con []\n",
        "- Soporta slicing\n",
        "- Son mutables\n",
        "- GENERADORES [var for x in range 10(-10)]\n",
        "- Al ser una clase contiene muchos metodos utiles\n",
        "\n"
      ]
    },
    {
      "cell_type": "code",
      "metadata": {
        "colab": {
          "base_uri": "https://localhost:8080/"
        },
        "id": "6v-fcIOfGq8S",
        "outputId": "35c02bd0-b633-4889-9448-f5ffbddf3441"
      },
      "source": [
        "numeros=[10, 5, 2, 3, 1]\n",
        "print(numeros)\n",
        "\n",
        "numeros2=list()\n",
        "numeros2.append(10)\n",
        "numeros2.append(5)\n",
        "numeros2.append(2)\n",
        "numeros2.append(3)\n",
        "numeros2.append(1)\n",
        "print(numeros2)\n",
        "numeros[2]=20\n",
        "print(numeros)\n",
        "numeros[-1]=33\n",
        "numeros.append(88)\n",
        "print(numeros)"
      ],
      "execution_count": null,
      "outputs": [
        {
          "output_type": "stream",
          "name": "stdout",
          "text": [
            "[10, 5, 2, 3, 1]\n",
            "[10, 5, 2, 3, 1]\n",
            "[10, 5, 20, 3, 1]\n",
            "[10, 5, 20, 3, 33, 88]\n"
          ]
        }
      ]
    },
    {
      "cell_type": "code",
      "metadata": {
        "colab": {
          "base_uri": "https://localhost:8080/"
        },
        "id": "uZMtUJMpIeUW",
        "outputId": "0816748b-7612-4a28-b88d-d9265f4cc548"
      },
      "source": [
        "# tipos diversos\n",
        "\n",
        "cosas=[12, 2, True, \"Jose\", 1.57, [\"pera\", \"kiwi\", \"uva\"] ]\n",
        "print(cosas)\n",
        "print(cosas[1])\n",
        "print(cosas[4])\n",
        "print(cosas[5])\n",
        "print(cosas[5][1])\n",
        "print(cosas[3][1:3])\n",
        "cosas[3]=cosas[3].upper()\n",
        "print(cosas)"
      ],
      "execution_count": null,
      "outputs": [
        {
          "output_type": "stream",
          "name": "stdout",
          "text": [
            "[12, 2, True, 'Jose', 1.57, ['pera', 'kiwi', 'uva']]\n",
            "2\n",
            "1.57\n",
            "['pera', 'kiwi', 'uva']\n",
            "kiwi\n",
            "os\n",
            "[12, 2, True, 'JOSE', 1.57, ['pera', 'kiwi', 'uva']]\n"
          ]
        }
      ]
    },
    {
      "cell_type": "code",
      "metadata": {
        "colab": {
          "base_uri": "https://localhost:8080/"
        },
        "id": "Q-uBdTp8L2RS",
        "outputId": "3157a4af-6e3d-408d-a78a-ac567440c9ae"
      },
      "source": [
        "numeros=[1,2,3,4,5,6,7,8,9,10,11]\n",
        "print(numeros)\n",
        "#slicing\n",
        "# 1. 4 al 8\n",
        "print(numeros[3:8])\n",
        "# 2. [9,10]\n",
        "print(numeros[-3:-1])\n",
        "# 3. impirmir la lista al reves [11,10,9,...]\n",
        "print(numeros[::-1])"
      ],
      "execution_count": null,
      "outputs": [
        {
          "output_type": "stream",
          "name": "stdout",
          "text": [
            "[1, 2, 3, 4, 5, 6, 7, 8, 9, 10, 11]\n",
            "[4, 5, 6, 7, 8]\n",
            "[9, 10]\n",
            "[11, 10, 9, 8, 7, 6, 5, 4, 3, 2, 1]\n"
          ]
        }
      ]
    },
    {
      "cell_type": "code",
      "metadata": {
        "colab": {
          "base_uri": "https://localhost:8080/"
        },
        "id": "cJ2kkYnmPoJY",
        "outputId": "e9cb7af0-f4a9-4d2f-8787-7e60d6fb649f"
      },
      "source": [
        "# crear una lista con un generador\n",
        "numeros={x*3 for x in range(101) }\n",
        "print(numeros)"
      ],
      "execution_count": null,
      "outputs": [
        {
          "output_type": "stream",
          "name": "stdout",
          "text": [
            "{0, 3, 6, 9, 12, 15, 18, 21, 24, 27, 30, 33, 36, 39, 42, 45, 48, 51, 54, 57, 60, 63, 66, 69, 72, 75, 78, 81, 84, 87, 90, 93, 96, 99, 102, 105, 108, 111, 114, 117, 120, 123, 126, 129, 132, 135, 138, 141, 144, 147, 150, 153, 156, 159, 162, 165, 168, 171, 174, 177, 180, 183, 186, 189, 192, 195, 198, 201, 204, 207, 210, 213, 216, 219, 222, 225, 228, 231, 234, 237, 240, 243, 246, 249, 252, 255, 258, 261, 264, 267, 270, 273, 276, 279, 282, 285, 288, 291, 294, 297, 300}\n"
          ]
        }
      ]
    },
    {
      "cell_type": "markdown",
      "metadata": {
        "id": "Z6VpS0YKQX6D"
      },
      "source": [
        "# Funcion range()\n",
        "\n",
        "- Tienen los mismos componentes que slicing\n",
        "\n",
        "inicio,stop,incremento\n",
        "\n",
        "range(1,101,1)"
      ]
    },
    {
      "cell_type": "code",
      "metadata": {
        "colab": {
          "base_uri": "https://localhost:8080/"
        },
        "id": "QqWAjhg0QvKb",
        "outputId": "ca2b4525-2b02-44da-931c-8062b16da441"
      },
      "source": [
        "numeros={x for x in range(50, 101) }\n",
        "print(numeros)"
      ],
      "execution_count": null,
      "outputs": [
        {
          "output_type": "stream",
          "name": "stdout",
          "text": [
            "{50, 51, 52, 53, 54, 55, 56, 57, 58, 59, 60, 61, 62, 63, 64, 65, 66, 67, 68, 69, 70, 71, 72, 73, 74, 75, 76, 77, 78, 79, 80, 81, 82, 83, 84, 85, 86, 87, 88, 89, 90, 91, 92, 93, 94, 95, 96, 97, 98, 99, 100}\n"
          ]
        }
      ]
    },
    {
      "cell_type": "markdown",
      "metadata": {
        "id": "qb_1WQUQRJYL"
      },
      "source": [
        "# Metodos disponibles de las listas\n"
      ]
    },
    {
      "cell_type": "code",
      "metadata": {
        "colab": {
          "base_uri": "https://localhost:8080/"
        },
        "id": "fIb8KmXPRNUO",
        "outputId": "fa5f51cc-4b67-4cf9-9c48-fbeaa415d3ee"
      },
      "source": [
        "dir(list)"
      ],
      "execution_count": null,
      "outputs": [
        {
          "output_type": "execute_result",
          "data": {
            "text/plain": [
              "['__add__',\n",
              " '__class__',\n",
              " '__contains__',\n",
              " '__delattr__',\n",
              " '__delitem__',\n",
              " '__dir__',\n",
              " '__doc__',\n",
              " '__eq__',\n",
              " '__format__',\n",
              " '__ge__',\n",
              " '__getattribute__',\n",
              " '__getitem__',\n",
              " '__gt__',\n",
              " '__hash__',\n",
              " '__iadd__',\n",
              " '__imul__',\n",
              " '__init__',\n",
              " '__init_subclass__',\n",
              " '__iter__',\n",
              " '__le__',\n",
              " '__len__',\n",
              " '__lt__',\n",
              " '__mul__',\n",
              " '__ne__',\n",
              " '__new__',\n",
              " '__reduce__',\n",
              " '__reduce_ex__',\n",
              " '__repr__',\n",
              " '__reversed__',\n",
              " '__rmul__',\n",
              " '__setattr__',\n",
              " '__setitem__',\n",
              " '__sizeof__',\n",
              " '__str__',\n",
              " '__subclasshook__',\n",
              " 'append',\n",
              " 'clear',\n",
              " 'copy',\n",
              " 'count',\n",
              " 'extend',\n",
              " 'index',\n",
              " 'insert',\n",
              " 'pop',\n",
              " 'remove',\n",
              " 'reverse',\n",
              " 'sort']"
            ]
          },
          "metadata": {},
          "execution_count": 39
        }
      ]
    },
    {
      "cell_type": "code",
      "metadata": {
        "colab": {
          "base_uri": "https://localhost:8080/"
        },
        "id": "HhrfLE8cScYw",
        "outputId": "9ca1e8a3-1f0c-40a4-bce9-31ca372e917f"
      },
      "source": [
        "numeros=[4,1,15,8,22,34,50]\n",
        "print(numeros)\n",
        "numeros.append(99)\n",
        "print(numeros)\n",
        "\n",
        "numeros.clear()\n",
        "print(numeros)\n",
        "\n",
        "frutas=[\"uvas\", \"kiwi\", \"manzana\"]\n",
        "copia=frutas\n",
        "print(frutas)\n",
        "print(copia)\n",
        "frutas.append(\"naranaja\")\n",
        "print(frutas)\n",
        "print(copia)\n",
        "\n",
        "colores=[\"rojo\",\"azul\",\"blanco\"]\n",
        "copia2=colores.copy()\n",
        "print(colores)\n",
        "print(copia2)\n",
        "colores.append(\"verde\")\n",
        "print(colores)\n",
        "print(copia2)\n",
        "\n",
        "print(\"Numero de veces que aprece el 15\", numeros.count(15))\n",
        "\n",
        "#extend\n",
        "\n",
        "nombre=[\"Jose\",\"pedro\",\"karina\"]\n",
        "otrosnombres=[\"Josue\", \"Diana\",\"Dalia\"]\n",
        "\n",
        "print(nombre)\n",
        "print(otrosnombres)\n",
        "nombre =nombre+otrosnombres\n",
        "print(nombre)\n",
        "print(otrosnombres)\n",
        "\n",
        "#lo mismo con el metodo extend\n",
        "otrosnombres.extend([\"jesus\",\"maria\",\"jose\"])\n",
        "print(otrosnombres)\n",
        "print(\"Jesus esta en la pocision:\",otrosnombres.index(\"jesus\"))\n",
        "otrosnombres.insert(4,\"Espiritu santo\")\n",
        "print(otrosnombres)\n",
        "\n",
        "#pop\n",
        "resultado=otrosnombres.pop()\n",
        "print(otrosnombres)\n",
        "print(resultado)"
      ],
      "execution_count": null,
      "outputs": [
        {
          "output_type": "stream",
          "name": "stdout",
          "text": [
            "[4, 1, 15, 8, 22, 34, 50]\n",
            "[4, 1, 15, 8, 22, 34, 50, 99]\n",
            "[]\n",
            "['uvas', 'kiwi', 'manzana']\n",
            "['uvas', 'kiwi', 'manzana']\n",
            "['uvas', 'kiwi', 'manzana', 'naranaja']\n",
            "['uvas', 'kiwi', 'manzana', 'naranaja']\n",
            "['rojo', 'azul', 'blanco']\n",
            "['rojo', 'azul', 'blanco']\n",
            "['rojo', 'azul', 'blanco', 'verde']\n",
            "['rojo', 'azul', 'blanco']\n",
            "Numero de veces que aprece el 15 0\n",
            "['Jose', 'pedro', 'karina']\n",
            "['Josue', 'Diana', 'Dalia']\n",
            "['Jose', 'pedro', 'karina', 'Josue', 'Diana', 'Dalia']\n",
            "['Josue', 'Diana', 'Dalia']\n",
            "['Josue', 'Diana', 'Dalia', 'jesus', 'maria', 'jose']\n",
            "Jesus esta en la pocision: 3\n",
            "['Josue', 'Diana', 'Dalia', 'jesus', 'Espiritu santo', 'maria', 'jose']\n",
            "['Josue', 'Diana', 'Dalia', 'jesus', 'Espiritu santo', 'maria']\n",
            "jose\n"
          ]
        }
      ]
    },
    {
      "cell_type": "markdown",
      "metadata": {
        "id": "tSunRok8v7X_"
      },
      "source": [
        "# Tuplas\n",
        "\n",
        "### Caracteristicas\n",
        "\n",
        "- Son datos agrupados\n",
        "- Se declara usando\n",
        "        - ()\n",
        "        - tuple ()\n",
        "- Es una estructura secuencial, indexada a partir de 0\n",
        "- Pueden tener de 0 a n elementos \n",
        "- No son MUTABLES (no se puede: eliminar y/o cambiar)\n",
        "- Son buenas para almacenar informacion de consulta\n",
        "- Pueden al,acenar informacion de diferentes tipos de dato\n",
        "- Pueden estar anidadas\n",
        "- Tienen metodos utiles "
      ]
    },
    {
      "cell_type": "code",
      "metadata": {
        "colab": {
          "base_uri": "https://localhost:8080/"
        },
        "id": "-kT7dD1gw9uL",
        "outputId": "df4a9fbf-8d32-40f0-c2f3-82fc235a5de4"
      },
      "source": [
        "info = (\"juan23\",\"dios1234\", \"123.232.1.12\")\n",
        "print(info)\n",
        "print(info[1])\n",
        "# info[1]=\"patito1234\"   este es un error, ya que no es mutable\n",
        "\n",
        "numeros=(0,1,2,3,4,5,6,7,8,9,10,11,12,13,14,15)\n",
        "print(numeros[5:11])\n",
        "\n",
        "cosas=(info, numeros)\n",
        "print(cosas)\n",
        "print(cosas[1][5:11])\n",
        "print(cosas[0][2][4:7])"
      ],
      "execution_count": null,
      "outputs": [
        {
          "output_type": "stream",
          "name": "stdout",
          "text": [
            "('juan23', 'dios1234', '123.232.1.12')\n",
            "dios1234\n",
            "(5, 6, 7, 8, 9, 10)\n",
            "(('juan23', 'dios1234', '123.232.1.12'), (0, 1, 2, 3, 4, 5, 6, 7, 8, 9, 10, 11, 12, 13, 14, 15))\n",
            "(5, 6, 7, 8, 9, 10)\n",
            "232\n"
          ]
        }
      ]
    },
    {
      "cell_type": "markdown",
      "metadata": {
        "id": "__H3YJQP0mvR"
      },
      "source": [
        "# Metodos de las duplas\n",
        "Son los mismos de las listas pero los que no involucren mutabilidad"
      ]
    },
    {
      "cell_type": "code",
      "metadata": {
        "id": "3oe_2zYE0xYH"
      },
      "source": [
        "dir (tuple)"
      ],
      "execution_count": null,
      "outputs": []
    },
    {
      "cell_type": "markdown",
      "metadata": {
        "id": "KFq1J1It2uxI"
      },
      "source": [
        "# Diccionario\n",
        "### Caracterisitcas  de los diccionarios\n",
        "\n",
        "- Agrupan datos pero no de forma no lineal\n",
        "- Se declaran con:\n",
        "  - {}\n",
        "  - dict()\n",
        "- Formado por pares del tipo llave:valor, donde:\n",
        "    - Lalve es de tipo string (siempre)\n",
        "    - Valor puede ser de cualquier tipo de datos, incluyendo los diccionarios\n",
        "- Se seleccionan con la llave de la forma [\"id_llave\"]\n",
        "- Son mutables\n",
        "- Son anidables\n",
        "- Son equivalenmtes al tipo ded ato JSON del lenguajes javascript (JS)"
      ]
    },
    {
      "cell_type": "code",
      "metadata": {
        "colab": {
          "base_uri": "https://localhost:8080/"
        },
        "id": "YURW133K40TZ",
        "outputId": "65d9b33e-b473-4565-9a03-efa8eead9f86"
      },
      "source": [
        "alumno={\"nombre\":\"Jose\"}\n",
        "print(alumno)\n",
        "print(alumno[\"nombre\"])\n",
        "alumno={\"nombre\":\"Jose\",\"no\":\"5629586289\",\"edad\":18}\n",
        "print(\"Edad del alumno: \", alumno[\"edad\"])\n",
        "print(alumno[\"nombre\"].upper())\n",
        "\n",
        "print(\"Alumno2\")\n",
        "alumno2=dict()     #{}\n",
        "alumno2[\"nombre\"]=\"jose\"\n",
        "print(alumno2)\n",
        "alumno2[\"No.\"]=\"3737737373\"\n",
        "alumno2[\"edad\"]=18\n",
        "print(alumno2)\n",
        "alumno2[\"edad\"]=alumno2[\"edad\"]+1\n",
        "print(alumno2)"
      ],
      "execution_count": null,
      "outputs": [
        {
          "output_type": "stream",
          "name": "stdout",
          "text": [
            "{'nombre': 'Jose'}\n",
            "Jose\n",
            "Edad del alumno:  18\n",
            "JOSE\n",
            "Alumno2\n",
            "{'nombre': 'jose'}\n",
            "{'nombre': 'jose', 'No.': '3737737373', 'edad': 18}\n",
            "{'nombre': 'jose', 'No.': '3737737373', 'edad': 19}\n"
          ]
        }
      ]
    },
    {
      "cell_type": "code",
      "metadata": {
        "colab": {
          "base_uri": "https://localhost:8080/"
        },
        "id": "O9dubyI_8Qqo",
        "outputId": "ee3361bc-59e1-40e6-8eb8-8b3d8f2f292e"
      },
      "source": [
        "cliente={\"id\":\"CT2121\", \n",
        "         \"nombre\":\"Jose Pedroza Rosales\", \n",
        "         \"telefono\":\"casa=55454567  cel=5530302020\"}\n",
        "print(cliente)\n",
        "cliente={\"id\":\"CT2121\", \n",
        "         \"nombre\":{\n",
        "            \"nombre_pila\":[\"Jose\", \"Eduardo\"],\n",
        "            \"parterno\": \"Pedroza\",\n",
        "            \"materno\": \"Rosales\"\n",
        "          },\n",
        "         \"telefonos\":{\n",
        "             \"casa\":\"4373867386\",\n",
        "             \"trabajo\": \"3586356356\",\n",
        "             \"celular\":\"5672365745\"\n",
        "          },\n",
        "         \"productos\":{\n",
        "            \"ahorros\": {\"numero_cuenta\":\"7882\", \"ahorro\": 2500.5},\n",
        "            \"tarjetas\":[\n",
        "                         {\"tipo\": \"debito\", \"saldo\": 10000.5},\n",
        "                         {\"tipo\": \"credito preferente\", \"limite\": 250000},\n",
        "                         {\"tipo\": \"lite\", \"limite\":25000.5} \n",
        "            ]\n",
        "          },\n",
        "         \"direccion\":{\n",
        "             \"calle\":\"Av, Central\",\n",
        "             \"numero\":\"125\",\n",
        "             \"coolonia\":\"impulsora\",\n",
        "             \"delegacion\":\"neza\",\n",
        "             \"estado\":{ \n",
        "                 \"clave\":15,\n",
        "                 \"nombre_corto\":\"EdoMex\",\n",
        "                 \"nombre\":\"Estado de Mexico\"\n",
        "                 }\n",
        "          }\n",
        "        }\n",
        "\n",
        "print(cliente[\"telefonos\"][\"casa\"])\n",
        "print(cliente[\"productos\"][\"ahorros\"][\"ahorro\"])\n",
        "print(cliente[\"productos\"][\"tarjetas\"][2][\"limite\"])\n",
        "print(cliente[\"direccion\"][\"estado\"][\"nombre\"].upper())\n",
        "\n",
        "cliente[\"productos\"][\"ahorros\"][\"ahorro\"]-=1500.0\n",
        "print(cliente[\"productos\"])"
      ],
      "execution_count": null,
      "outputs": [
        {
          "output_type": "stream",
          "name": "stdout",
          "text": [
            "{'id': 'CT2121', 'nombre': 'Jose Pedroza Rosales', 'telefono': 'casa=55454567  cel=5530302020'}\n",
            "4373867386\n",
            "2500.5\n",
            "25000.5\n",
            "ESTADO DE MEXICO\n",
            "{'ahorros': {'numero_cuenta': '7882', 'ahorro': 1000.5}, 'tarjetas': [{'tipo': 'debito', 'saldo': 10000.5}, {'tipo': 'credito preferente', 'limite': 250000}, {'tipo': 'lite', 'limite': 25000.5}]}\n"
          ]
        }
      ]
    },
    {
      "cell_type": "code",
      "metadata": {
        "colab": {
          "base_uri": "https://localhost:8080/"
        },
        "id": "Yhgw-mhIJV_L",
        "outputId": "a42e2cfe-99cb-4144-b08e-7ae257a3ec95"
      },
      "source": [
        "# Diccionario de una pelicula\n",
        "\n",
        "peliculas={\"pelicula1\":{\n",
        "            \"nombre\": \"Shrek\",\n",
        "            \"estilo\": \"comedia\",\n",
        "            \"calificacion\": \"10/10\"\n",
        "            },\n",
        "          \"pelicula2\":{\n",
        "              \"nombre\": \"son como niños\",\n",
        "              \"estilo\": \"comedia\",\n",
        "              \"calificacion\": \"9/10\"\n",
        "            },\n",
        "          \"pelicula3\":{\n",
        "              \"nombre\": \"Coco\",\n",
        "              \"genero\": \"drama\",\n",
        "              \"calificacion\": \"8/10\"\n",
        "            },\n",
        "           \"pelicula4\":{\n",
        "              \"nombre\": \"Chucky\",\n",
        "              \"genero\": \"miedo\",\n",
        "              \"calificacion\": \"7/10\"\n",
        "            },\n",
        "           \"pelicula5\":{\n",
        "              \"nombre\": \"Sharknado\",\n",
        "              \"genero\": \"comedia/drama\",\n",
        "              \"calificacion\": \"4/10\"\n",
        "            }\n",
        "        }\n",
        "print(peliculas)"
      ],
      "execution_count": null,
      "outputs": [
        {
          "output_type": "stream",
          "name": "stdout",
          "text": [
            "{'pelicula1': {'nombre': 'Shrek', 'estilo': 'comedia', 'calificacion': '10/10'}, 'pelicula2': {'nombre': 'son como niños', 'estilo': 'comedia', 'calificacion': '9/10'}, 'pelicula3': {'nombre': 'Coco', 'genero': 'drama', 'calificacion': '8/10'}, 'pelicula4': {'nombre': 'Chucky', 'genero': 'miedo', 'calificacion': '7/10'}, 'pelicula5': {'nombre': 'Sharknado', 'genero': 'comedia/drama', 'calificacion': '4/10'}}\n"
          ]
        }
      ]
    },
    {
      "cell_type": "markdown",
      "metadata": {
        "id": "ncS-puJBMqM9"
      },
      "source": [
        "# Estructuras de control de programacion\n",
        "\n",
        "Se puede crear cualquier tipo de algoritmo empleando solamente 3 estrucuras de control:\n",
        "\n",
        "1. Secuencia\n",
        "    - La representacion de la memoria de programa (Vonn Newman\n",
        "2. Seleccion\n",
        "    - Es la estrucura de control que decide si un bloque de programa se ejecuta o no se ejecuta. Tambien permite seleccionar ejecutar un bloque entre un conjunto de opciones\n",
        "        - En resumen tenemos: seleccion simple, seleccion con bifurcacion y seleccion multiple\n",
        "3. Repeticion \n",
        "    - Este tipo de estructura nos permite automatizar la ejecucion repetitiva de codigo mientras ciertas condiciones de cumplan, tenemos 3 varianetes de esta estructura en todos los lenguajes de programacion:\n",
        "        - Desde... hasta (estructura for)\n",
        "        - Haz mientras (estructura while)\n",
        "        - Haz y luego validaz mientras (estructura do-while)\n"
      ]
    },
    {
      "cell_type": "markdown",
      "metadata": {
        "id": "zMev7T4ISn_u"
      },
      "source": [
        "# Seleccion simple\n",
        "\n",
        "la estructura if\n",
        "\n",
        "                if <condicion>:\n",
        "                   <cuerpo del IF>\n",
        "\n",
        "**NOTA** Para establecer el cuerpo de una estructura de control en python se usan los tabuladores a la izquierda\n",
        "\n",
        "En otros lenguajes de programacion como java, c y c++... se usan las llaves {}\n",
        "\n",
        "                int edad=0;\n",
        "                print(\"Dame tu edad\");\n",
        "                scanf(\"%i\", edad);\n",
        "                if(edad>=18){\n",
        "                    print(\"Eres mayor de edad\");\n",
        "                }\n",
        "                print(\"Fin del programa\");"
      ]
    },
    {
      "cell_type": "code",
      "metadata": {
        "colab": {
          "base_uri": "https://localhost:8080/"
        },
        "id": "jaI3oO9mSLVF",
        "outputId": "6e997ab4-3f07-4ef8-f069-520da2477b9b"
      },
      "source": [
        "#Seleccion simple\n",
        "\n",
        "edad=int(input(\"Dame tu edad:\"))\n",
        "print(f\"Tecleaste {edad} años\")   # la \"f\" es un operador del print\n",
        "if edad>=18:\n",
        "    print(\"ERES MAYOR DE EDAD\")\n",
        "    print(\"Puedes comprar alcohol\") #Los tabuladores indican que estan dentro del if\n",
        "    print(\"Toma con medida\")\n",
        "print(\"Cada dia mas viejo jaja\")\n",
        "print(\"Fin del programa\")"
      ],
      "execution_count": null,
      "outputs": [
        {
          "output_type": "stream",
          "name": "stdout",
          "text": [
            "Dame tu edad:19\n",
            "Tecleaste 19 años\n",
            "ERES MAYOR DE EDAD\n",
            "Puedes comprar alcohol\n",
            "Toma con medida\n",
            "Cada dia mas viejo jajaj\n",
            "Fin del programa\n"
          ]
        }
      ]
    },
    {
      "cell_type": "code",
      "metadata": {
        "colab": {
          "base_uri": "https://localhost:8080/"
        },
        "id": "OGbde4htWiOL",
        "outputId": "9f30f355-e6d6-4ef2-8814-8321684daa42"
      },
      "source": [
        "# ejercicio 1\n",
        "\"\"\"\n",
        "calif=float(input(\"Dame tu calificacion: \"))\n",
        "if calif>=8:\n",
        "    print(\"Aprobado\")\n",
        "else:\n",
        "    print(\"Reprobado\")\n",
        "\n",
        "print(\"FIN DEL PROGRAMA\")\n",
        "\n",
        "\"\"\"\n",
        "\n",
        "# ejercicio 2\n",
        "\n",
        "sue=float(input(\"Cual es tu sueldo: \"))\n",
        "if sue<1000:\n",
        "    aum=sue*0.15\n",
        "    nsue=sue+aum\n",
        "    print(\"Tu sueldo es: \", nsue)\n",
        "else: \n",
        "    print(\"Tu sueldo es: \", sue)\n"
      ],
      "execution_count": null,
      "outputs": [
        {
          "output_type": "stream",
          "name": "stdout",
          "text": [
            "Cual es tu sueldo: 690\n",
            "Tu sueldo es:  793.5\n"
          ]
        }
      ]
    },
    {
      "cell_type": "markdown",
      "metadata": {
        "id": "13c92r2LGlJI"
      },
      "source": [
        "# Estructura de seleccion con bifurcacion (if-else)\n",
        "\n",
        "Esta estrucutura, selecciona una de dos opciones de ejecucion, se ejecuta un bloque si la condicion se cumple o se ejecuta otro bloque (else)"
      ]
    },
    {
      "cell_type": "code",
      "metadata": {
        "colab": {
          "base_uri": "https://localhost:8080/"
        },
        "id": "gAKWEnoEHozt",
        "outputId": "1009684b-e0e3-4652-c0af-b699d3e03f25"
      },
      "source": [
        "edad=int(input(\"cuantos años tienes?: \"))\n",
        "print(f\"Tienes {edad} años\")\n",
        "if edad >= 18:\n",
        "    print(\"Eres mayor de edad, guama?\")\n",
        "else:\n",
        "    print(\"Erres menor de edad, ten tu chamito\")"
      ],
      "execution_count": null,
      "outputs": [
        {
          "output_type": "stream",
          "name": "stdout",
          "text": [
            "cuantos años tienes?: 18\n",
            "Tienes 18 años\n",
            "Eres mayor de edad, guama?\n"
          ]
        }
      ]
    },
    {
      "cell_type": "code",
      "metadata": {
        "colab": {
          "base_uri": "https://localhost:8080/"
        },
        "id": "L0dpBF9mJLYM",
        "outputId": "de9ec105-9881-46c7-ceae-1557bb73f8f5"
      },
      "source": [
        "edad=int(input(\"cuantos años tienes?: \"))\n",
        "print(f\"Tienes {edad} años\")\n",
        "if edad >= 18:\n",
        "    print(\"Eres mayor de edad\")\n",
        "    dinero=int(input(\"cuanto traes?: \"))\n",
        "    if dinero >=36:\n",
        "            print(\"Pasale por tu guama\")\n",
        "    else:\n",
        "        print(\"no chavo, te falta\")\n",
        "        print(\"De que te sirve tener la edad si ni dinero traes\")\n",
        "        \n",
        "else:\n",
        "    print(\"Eres menor de edad, ten tu chamito\")"
      ],
      "execution_count": null,
      "outputs": [
        {
          "output_type": "stream",
          "name": "stdout",
          "text": [
            "cuantos años tienes?: 18\n",
            "Tienes 18 años\n",
            "Eres mayor de edad\n",
            "cuanto traes?: 22\n",
            "no chavo, te falta\n",
            "De que te sirve tener la edad si ni dinero traes\n"
          ]
        }
      ]
    },
    {
      "cell_type": "markdown",
      "metadata": {
        "id": "WT2FHYEtMyhZ"
      },
      "source": [
        "El codigo anteiror, se puede simplificar usando una palabra reservada (elif: une el if y else) \n",
        "\n",
        "En lugar de \n",
        "\n",
        "            if: \n",
        "                 else:\n",
        "\n",
        "seria \n",
        "\n",
        "                 elif:"
      ]
    },
    {
      "cell_type": "code",
      "metadata": {
        "colab": {
          "base_uri": "https://localhost:8080/"
        },
        "id": "8rd1McoPNEhK",
        "outputId": "de9ec105-9881-46c7-ceae-1557bb73f8f5"
      },
      "source": [
        "edad=int(input(\"cuantos años tienes?: \"))\n",
        "print(f\"Tienes {edad} años\")\n",
        "if edad >= 18:\n",
        "    print(\"Eres mayor de edad\")\n",
        "    dinero=int(input(\"cuanto traes?: \"))\n",
        "    if dinero >=36:\n",
        "            print(\"Pasale por tu guama\")\n",
        "    else:\n",
        "        print(\"no chavo, te falta\")\n",
        "        print(\"De que te sirve tener la edad si ni dinero traes\")\n",
        "        \n",
        "else:\n",
        "    print(\"Eres menor de edad, ten tu chamito\")"
      ],
      "execution_count": null,
      "outputs": [
        {
          "output_type": "stream",
          "name": "stdout",
          "text": [
            "cuantos años tienes?: 18\n",
            "Tienes 18 años\n",
            "Eres mayor de edad\n",
            "cuanto traes?: 22\n",
            "no chavo, te falta\n",
            "De que te sirve tener la edad si ni dinero traes\n"
          ]
        }
      ]
    },
    {
      "cell_type": "code",
      "metadata": {
        "id": "ItYiAfmyO0rj"
      },
      "source": [
        "CAL= float(input(\"Escribe tu calificiación: \"))\n",
        "if CAL >= 8 :\n",
        "    print(\"Aprobado\")\n",
        "else: \n",
        "    print(\"Reprobado\")"
      ],
      "execution_count": null,
      "outputs": []
    },
    {
      "cell_type": "code",
      "metadata": {
        "colab": {
          "base_uri": "https://localhost:8080/"
        },
        "id": "GXx-EAezPPyM",
        "outputId": "784840c9-d2ce-4214-cc25-2f2a86ca3111"
      },
      "source": [
        "# ejemplo 2.4\n",
        "\n",
        "SUE = float(input(\"Escribe el sueldo: \"))\n",
        "AUM = 0 \n",
        "NSUE = 0\n",
        "\n",
        "if SUE < 1000 :\n",
        "    AUM = SUE* 0.15\n",
        "    NSUE = SUE + AUM\n",
        "    print(NSUE)\n",
        "else:\n",
        "    AUM= SUE*0.12\n",
        "    NSUE = SUE + AUM\n",
        "    print(NSUE)"
      ],
      "execution_count": null,
      "outputs": [
        {
          "output_type": "stream",
          "name": "stdout",
          "text": [
            "Escribe el sueldo: 900\n",
            "1035.0\n"
          ]
        }
      ]
    },
    {
      "cell_type": "markdown",
      "metadata": {
        "id": "FoyHyxauSECw"
      },
      "source": [
        "# Ejercicio if-else\n",
        "\n",
        "Hacer un progrmama que solicite el dia de la semana en un vaklor numerico entero del 1 al 7 (avisarle al usuario si proporciono un valor fuera del rango)\n",
        "\n",
        "Posteriormente imprimira el dia de la semana correspondinete al numero capturado\n",
        "1. lunes\n",
        "2. martes\n",
        "..."
      ]
    },
    {
      "cell_type": "code",
      "metadata": {
        "colab": {
          "base_uri": "https://localhost:8080/"
        },
        "id": "dyqbNg10SqTJ",
        "outputId": "27046944-39d8-47d8-b16c-d0f158dd7103"
      },
      "source": [
        "dia=int(input(\"Dame el día de la semana del 1-7: \"))\n",
        "if dia is 1:\n",
        "    print(\"LUNES\")\n",
        "elif dia is 2:\n",
        "    print(\"MARTES\")\n",
        "elif dia is 3:\n",
        "    print(\"MIERCOLES\")\n",
        "elif dia is 4:\n",
        "    print(\"JUEVES\")\n",
        "elif dia is 5:\n",
        "    print(\"VIERNES\")\n",
        "elif dia is 6:\n",
        "    print(\"SÁBADO\")\n",
        "elif dia is 7:\n",
        "    print(\"DOMINGO\")\n",
        "else:\n",
        "    print(\"Debe ser un numero del 1 al 7, ingresa nuevamente\")"
      ],
      "execution_count": null,
      "outputs": [
        {
          "output_type": "stream",
          "name": "stdout",
          "text": [
            "Dame el día de la semana del 1-7: 1\n",
            "LUNES\n"
          ]
        }
      ]
    },
    {
      "cell_type": "code",
      "metadata": {
        "colab": {
          "base_uri": "https://localhost:8080/"
        },
        "id": "TNqV-Qi0Wr-d",
        "outputId": "8652950f-254e-40e5-a99d-a6cf8cec474d"
      },
      "source": [
        "dias=['esta fuera del rango','Lunes', 'martes','miecoles','jueves','viernes','sabado','domingo']\n",
        "dia=int(input(\"Dame el día de la semana del 1-7: \"))\n",
        "if dia <= 7:\n",
        "    print(dias[dia])\n",
        "else:\n",
        "    print(\"esta fuera del rango\")"
      ],
      "execution_count": null,
      "outputs": [
        {
          "output_type": "stream",
          "name": "stdout",
          "text": [
            "Dame el día de la semana del 1-7: 7\n",
            "domingo\n"
          ]
        }
      ]
    },
    {
      "cell_type": "markdown",
      "metadata": {
        "id": "tHKJ-2Oaa-8M"
      },
      "source": [
        "# Estructura de Seleccion multiple {switch}\n",
        "En python no existe la estructura de seleccion multiple {switch}, en su lugar se ocuopa la palabra reservada {elif}"
      ]
    },
    {
      "cell_type": "code",
      "metadata": {
        "colab": {
          "base_uri": "https://localhost:8080/"
        },
        "id": "KK3bpSaRc0SY",
        "outputId": "769ce2c4-5f90-4ca2-b813-a1a95116f86d"
      },
      "source": [
        "# ejemplo 2.7\n",
        "NUM=int(input(\"dame un numero entre 1 y 3: \"))\n",
        "V=float(input(\"dame un valor float:\"))\n",
        "VAL=0\n",
        "if NUM == 1:\n",
        "    VAL = 100 * V\n",
        "elif NUM == 2:\n",
        "    VAL = 100 ** VAL\n",
        "elif NUM == 3:\n",
        "    VAL = 100/VAL\n",
        "else:\n",
        "    VALL=0\n",
        "print(VAL)\n",
        "\n",
        "\n"
      ],
      "execution_count": null,
      "outputs": [
        {
          "output_type": "stream",
          "name": "stdout",
          "text": [
            "dame un numero entre 1 y 3: 1\n",
            "dame un valor float:2\n",
            "200.0\n"
          ]
        }
      ]
    },
    {
      "cell_type": "markdown",
      "metadata": {
        "id": "U8CflrWIZtxb"
      },
      "source": [
        "# 1. \n",
        "hacer un progrmama que pida dos numeros enteros y qie los imprima\n",
        "\n",
        "1. cual es el mayor\n",
        "2. cual en el menor \n",
        "o si son iguales"
      ]
    },
    {
      "cell_type": "markdown",
      "metadata": {
        "id": "Na0zhwrxZ-34"
      },
      "source": [
        "# 2.\n",
        "hacer un progrmama que solicte 3 numeros enteros diferentes entre si y que imprima cual de los 3 es mayor "
      ]
    },
    {
      "cell_type": "markdown",
      "metadata": {
        "id": "M70-sJMZaOnr"
      },
      "source": [
        "# 3.\n",
        "hacer un progrmama que solicte 3 numeros enteros diferentes entre si y que imprima cual de los 3 es menor"
      ]
    },
    {
      "cell_type": "markdown",
      "metadata": {
        "id": "K1JPApxRaa8w"
      },
      "source": [
        "# 4. \n",
        "hacer un programa que solicite 4 numeros diferentes entre si e imprima cual es el mayor y el menor  "
      ]
    },
    {
      "cell_type": "code",
      "metadata": {
        "colab": {
          "base_uri": "https://localhost:8080/"
        },
        "id": "nG_L7zmu2FFp",
        "outputId": "f5e18972-fba0-4fde-83ff-d9217f1ed967"
      },
      "source": [
        "# ejemplo 2.8\n",
        "\n",
        "CATE=int(input(\"Introduce la categoria: \"))\n",
        "SUE=float(input(\"Introduce tu sueldo: \"))\n",
        "\n",
        "if CATE==1:\n",
        "    SUE==SUE*1.15;\n",
        "elif CATE==2:\n",
        "    SUE=SUE*1.10;\n",
        "elif CATE==3: \n",
        "    SUE=SUE*2.08;\n",
        "elif CATE==4:\n",
        "    SUE=SUE*1.07;\n",
        "\n",
        "print(f\"Categoria= {CATE}, Sueldo= {SUE}\")\n"
      ],
      "execution_count": null,
      "outputs": [
        {
          "output_type": "stream",
          "name": "stdout",
          "text": [
            "Introduce la categoria: 1\n",
            "Introduce tu sueldo: 1000\n",
            "Categoria= 1, sUELDO= 1000.0\n"
          ]
        }
      ]
    },
    {
      "cell_type": "code",
      "metadata": {
        "colab": {
          "base_uri": "https://localhost:8080/"
        },
        "id": "kInKgw1F5Cmq",
        "outputId": "c55f37c4-9480-4665-d1c2-9909e4068fb9"
      },
      "source": [
        "# ejemolo 2.12\n",
        "\n",
        "A = int(input(\"Dame un número entero: \"))\n",
        "B = int(input(\"Dame otro número entero: \"))\n",
        "C = int(input(\"Dame otro número entero: \"))\n",
        "if A > B:\n",
        "    if A > C:\n",
        "        if B > C:\n",
        "            print(f\"{A}, {B} y {C}\")\n",
        "        else:\n",
        "            print(f\"{A}, {C} y {B}\")\n",
        "    else:\n",
        "            print(f\"{C}, {A} y {B}\")\n",
        "else:\n",
        "    if B > C:\n",
        "        if A > C:\n",
        "            print(f\"{B}, {A} y {C}\")\n",
        "        else:\n",
        "            print(f\"{B}, {C} y {A}\")\n",
        "    else:\n",
        "            print(f\"{C}, {B} y {A}\")\n",
        "print(\"FIN DEL PROGRAMA\")\n",
        "\n"
      ],
      "execution_count": null,
      "outputs": [
        {
          "output_type": "stream",
          "name": "stdout",
          "text": [
            "Dame un número entero: 2\n",
            "Dame otro número entero: 3\n",
            "Dame otro número entero: 1\n",
            "3, 2 y 1\n",
            "FIN DEL PROGRAMA\n"
          ]
        }
      ]
    },
    {
      "cell_type": "code",
      "metadata": {
        "colab": {
          "base_uri": "https://localhost:8080/"
        },
        "id": "gR33KvLPBYGe",
        "outputId": "be05ea13-d549-4a82-9493-0660698120b1"
      },
      "source": [
        "# Ejercicio 2.14 \n",
        "\n",
        "TP= int(input(\"Que tipo de enfermedad tienes?: \"))\n",
        "EDAD= int(input(\"Cuantos años tienes?: \"))\n",
        "DIAS= int(input(\"Cuantos dias llevas con la enfermedad?: \"))\n",
        "\n",
        "if TP==1:\n",
        "    COSTO=DIAS*25\n",
        "elif TP==2:\n",
        "    COSTO=DIAS*16\n",
        "elif TP==3:\n",
        "    COSTO=DIAS*20\n",
        "elif TP==4:\n",
        "    COSTO=DIAS*32\n",
        "    \n",
        "if EDAD>=14 and EDAD<=22:\n",
        "    costot=COSTO*1.10\n",
        "    print (f\"El costo total es: {costot}\")\n",
        "else:\n",
        "    print(f\"El costo es: {COSTO}\")"
      ],
      "execution_count": null,
      "outputs": [
        {
          "output_type": "stream",
          "name": "stdout",
          "text": [
            "Que tipo de enfermedad tienes?: 2\n",
            "Cuantos años tienes?: 11\n",
            "Cuantos dias llevas con la enfermedad?: 2\n",
            "El costo es: 32\n"
          ]
        }
      ]
    }
  ]
}