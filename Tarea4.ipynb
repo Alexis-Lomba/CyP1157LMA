{
  "nbformat": 4,
  "nbformat_minor": 0,
  "metadata": {
    "colab": {
      "name": "Tarea4.ipynb",
      "provenance": []
    },
    "kernelspec": {
      "name": "python3",
      "display_name": "Python 3"
    },
    "language_info": {
      "name": "python"
    }
  },
  "cells": [
    {
      "cell_type": "code",
      "metadata": {
        "colab": {
          "base_uri": "https://localhost:8080/"
        },
        "id": "qg3lQ1qhuIFR",
        "outputId": "98713505-ba0d-4911-efad-18bf81f802f5"
      },
      "source": [
        "#Tarea 4 (nombre letras por letra con la funcion print)\n",
        "\n",
        "nombre= \"ALEXIS\"\n",
        "\n",
        "print(nombre[0]+\" \"+nombre[0]+\" \"+nombre[0]+\" \"+\" \"+\" \"+nombre[1]+\" \"+\" \"+\" \"+\" \"+\" \"+\" \"+\" \"+nombre[2]+\" \"+nombre[2]+\" \"+nombre[2]+\" \"+\" \"+\" \"+nombre[3]+\" \"+\" \"+\" \"+nombre[3]+\" \"+\" \"+\" \"+nombre[4]+\" \"+nombre[4]+\" \"+nombre[4]+\" \"+\" \"+\" \"+nombre[5]+\" \"+nombre[5]+\" \"+nombre[5]\n",
        "      +\"\\n\"+nombre[0]+\" \"+\" \"+\" \"+nombre[0]+\" \"+\" \"+\" \"+nombre[1]+\" \"+\" \"+\" \"+\" \"+\" \"+\" \"+\" \"+nombre[2]+\" \"+\" \"+\" \"+\" \"+\" \"+\" \"+\" \"+\" \"+nombre[3]+\" \"+nombre[3]+\" \"+\" \"+\" \"+\" \"+\" \"+\" \"+nombre[4]+\" \"+\" \"+\" \"+\" \"+\" \"+nombre[5]\n",
        "      +\"\\n\"+nombre[0]+\" \"+nombre[0]+\" \"+nombre[0]+\" \"+\" \"+\" \"+nombre[1]+\" \"+\" \"+\" \"+\" \"+\" \"+\" \"+\" \"+nombre[2]+\" \"+nombre[2]+\" \"+nombre[2]+\" \"+\" \"+\" \"+\" \"+\" \"+nombre[3]+\" \"+\" \"+\" \"+\" \"+\" \"+\" \"+\" \"+nombre[4]+\" \"+\" \"+\" \"+\" \"+\" \"+nombre[5]+\" \"+nombre[5]+\" \"+nombre[5]+\" \"\n",
        "      +\"\\n\"+nombre[0]+\" \"+\" \"+\" \"+nombre[0]+\" \"+\" \"+\" \"+nombre[1]+\" \"+\" \"+\" \"+\" \"+\" \"+\" \"+\" \"+nombre[2]+\" \"+\" \"+\" \"+\" \"+\" \"+\" \"+\" \"+\" \"+nombre[3]+\" \"+nombre[3]+\" \"+\" \"+\" \"+\" \"+\" \"+\" \"+nombre[4]+\" \"+\" \"+\" \"+\" \"+\" \"+\" \"+\" \"+\" \"+\" \"+nombre[5]\n",
        "      +\"\\n\"+nombre[0]+\" \"+\" \"+\" \"+nombre[0]+\" \"+\" \"+\" \"+nombre[1]+\" \"+nombre[1]+\" \"+nombre[1]+\" \"+\" \"+\" \"+nombre[2]+\" \"+nombre[2]+\" \"+nombre[2]+\" \"+\" \"+\" \"+nombre[3]+\" \"+\" \"+\" \"+nombre[3]+\" \"+\" \"+\" \"+nombre[4]+\" \"+nombre[4]+\" \"+nombre[4]+\" \"+\" \"+\" \"+nombre[5]+\" \"+nombre[5]+\" \"+nombre[5]\n",
        "      )"
      ],
      "execution_count": 107,
      "outputs": [
        {
          "output_type": "stream",
          "name": "stdout",
          "text": [
            "A A A   L       E E E   X   X   I I I   S S S\n",
            "A   A   L       E        X X      I     S\n",
            "A A A   L       E E E     X       I     S S S \n",
            "A   A   L       E        X X      I         S\n",
            "A   A   L L L   E E E   X   X   I I I   S S S\n"
          ]
        }
      ]
    }
  ]
}