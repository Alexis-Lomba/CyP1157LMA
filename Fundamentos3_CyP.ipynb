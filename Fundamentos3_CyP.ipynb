{
  "nbformat": 4,
  "nbformat_minor": 0,
  "metadata": {
    "colab": {
      "name": "Fundamentos3_CyP.ipynb",
      "provenance": []
    },
    "kernelspec": {
      "name": "python3",
      "display_name": "Python 3"
    },
    "language_info": {
      "name": "python"
    }
  },
  "cells": [
    {
      "cell_type": "markdown",
      "metadata": {
        "id": "Zh3MORh9Fq03"
      },
      "source": [
        "# Repeticion \n",
        "Este tipo de estructura nos permite automatizar la ejecucion repetitiva de codigo mientras ciertas condiciones de cumplan, tenemos 3 varianetes de esta estructura en todos los lenguajes de programacion:\n",
        "\n",
        "- Desde... hasta (estructura for)\n",
        "- Haz mientras (estructura while)\n",
        "- Haz y luego validaz mientras (estructura do-while)\n",
        "\n",
        "# FOR CON PYTHON\n",
        "```\n",
        "FOR in range(10):\n",
        "    print(f\"Hola {j}\")\n",
        "```\n",
        "\n",
        "# FOR con lenguajer C y Java\n",
        "```\n",
        "for (int j=0; j<10; j=j+1){\n",
        "    printf(\"Hola 5i \\n\", j);\n",
        "}\n",
        "```\n",
        "\n",
        "En todos los lenguajes de progrmacion existe un tipo especial de FOR conocido como **for-each**\n",
        "\n",
        "#for-each en Python\n",
        "```\n",
        "for color in colors:\n",
        "    print(f\"Este es el color {color}\")\n",
        "```"
      ]
    },
    {
      "cell_type": "code",
      "metadata": {
        "colab": {
          "base_uri": "https://localhost:8080/"
        },
        "id": "OKsYs6rCGuv9",
        "outputId": "eb9cf5cc-9941-4310-c92f-6324e12d09b8"
      },
      "source": [
        "# funciuon range()\n",
        "# range (<INICIO>, <STOP>, <INCREMENTO>)\n",
        "\n",
        "x=range(0,10,2)\n",
        "print(x)\n",
        "\n",
        "for j in range (10): # range(0,10) --> 0,1,2,3,4,5,6,7,8,9\n",
        "    print(f\"Hola {j}\")\n",
        "print(\"------------------------------------------------------\")\n",
        "for j in range (0,10,2): # range(0,10) --> 0,1,2,3,4,5,6,7,8,9\n",
        "    print(f\"Hola {j}\")\n",
        "\n",
        "print(\"--------------\")\n",
        "frutas=[\"uva\", \"aguacate\", \"pera\", \"manzana\", \"sandia\"]\n",
        "for index in range (5):\n",
        "    print(frutas[index])\n",
        "\n",
        "print(\"-----------------\")\n",
        "for i in range (5):\n",
        "    print(\"+++++\")"
      ],
      "execution_count": 13,
      "outputs": [
        {
          "output_type": "stream",
          "name": "stdout",
          "text": [
            "range(0, 10, 2)\n",
            "Hola 0\n",
            "Hola 1\n",
            "Hola 2\n",
            "Hola 3\n",
            "Hola 4\n",
            "Hola 5\n",
            "Hola 6\n",
            "Hola 7\n",
            "Hola 8\n",
            "Hola 9\n",
            "------------------------------------------------------\n",
            "Hola 0\n",
            "Hola 2\n",
            "Hola 4\n",
            "Hola 6\n",
            "Hola 8\n",
            "--------------\n",
            "uva\n",
            "aguacate\n",
            "pera\n",
            "manzana\n",
            "sandia\n",
            "-----------------\n",
            "+++++\n",
            "+++++\n",
            "+++++\n",
            "+++++\n",
            "+++++\n"
          ]
        }
      ]
    }
  ]
}