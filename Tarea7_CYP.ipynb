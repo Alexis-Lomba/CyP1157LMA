{
  "nbformat": 4,
  "nbformat_minor": 0,
  "metadata": {
    "colab": {
      "name": "Tarea7_CYP.ipynb",
      "provenance": []
    },
    "kernelspec": {
      "name": "python3",
      "display_name": "Python 3"
    },
    "language_info": {
      "name": "python"
    }
  },
  "cells": [
    {
      "cell_type": "code",
      "metadata": {
        "colab": {
          "base_uri": "https://localhost:8080/"
        },
        "id": "t1HzUMKky0-h",
        "outputId": "c47ee11f-08e0-4f44-a4ec-4cd2bc69b8bd"
      },
      "source": [
        "# 3.1\n",
        "\n",
        "sumPar=0\n",
        "sumaImp=0\n",
        "cuentaPar=0\n",
        "num=0\n",
        "i=1\n",
        "while i<=270:\n",
        "    num = i #se le da el valor de i a num porque sino num siempre sera 0 porque lo declare asi \n",
        "    if num>0:\n",
        "        if  num%2!=0:\n",
        "            sumPar=sumPar+cuentaPar \n",
        "            cuentaPar = cuentaPar + 1\n",
        "        else: sumaImp=sumaImp+num\n",
        "    i=i+1\n",
        "promedioPar = sumPar / cuentaPar\n",
        "print(f\"Este es el promedio de los pares {promedioPar} y esta es la suma de los impares {sumaImp}\")"
      ],
      "execution_count": null,
      "outputs": [
        {
          "output_type": "stream",
          "name": "stdout",
          "text": [
            "Este es el promedio de los pares 67.0 y esta es la suma de los impares 18360\n"
          ]
        }
      ]
    },
    {
      "cell_type": "code",
      "metadata": {
        "id": "Y_a9sb86006I"
      },
      "source": [
        "# 3.2\n",
        "\n",
        "band='T'\n",
        "i=2\n",
        "sumser=0\n",
        "while i<=1800:\n",
        "    sumser=sumser+i\n",
        "    print(i)\n",
        "    if band=='T':\n",
        "        band='F'\n",
        "        i=i+3\n",
        "    else:\n",
        "        band='T'\n",
        "        i=i+2\n",
        "print(f\"La suma es {sumser}\")\n"
      ],
      "execution_count": null,
      "outputs": []
    },
    {
      "cell_type": "code",
      "metadata": {
        "id": "hyH0wOHw1R5Q",
        "colab": {
          "base_uri": "https://localhost:8080/"
        },
        "outputId": "aee762f8-55dd-47df-d578-7b27fcf49116"
      },
      "source": [
        "# 3.3\n",
        "\n",
        "n=int(input(\"Dame un numero entero: \"))\n",
        "band='T'\n",
        "serie = 0\n",
        "i=1\n",
        "while i<=n:\n",
        "    if band=='T':\n",
        "        serie=serie+(1/i)\n",
        "        band='F'\n",
        "    else: \n",
        "        serie=serie-(1/i)\n",
        "        band='T'\n",
        "    i=i+1\n",
        "print(serie)"
      ],
      "execution_count": 41,
      "outputs": [
        {
          "output_type": "stream",
          "name": "stdout",
          "text": [
            "Dame un numero entero: 9\n",
            "0.7456349206349207\n"
          ]
        }
      ]
    },
    {
      "cell_type": "code",
      "metadata": {
        "id": "gekrgRln1Tc6",
        "colab": {
          "base_uri": "https://localhost:8080/"
        },
        "outputId": "c9ab9844-159a-4b51-91fb-6443207a1c9c"
      },
      "source": [
        "# 3.4\n",
        "\n",
        "nom=0\n",
        "nominas=[855,760.32,1100.2,614,2600,817.5,1280.3,687,-1]\n",
        "i=0\n",
        "while nominas[i] > -1:\n",
        "    if nominas[i] < 1000:\n",
        "        nsue=round(nominas[i]*1.15,2)\n",
        "    else:\n",
        "        nsue=round(nominas[i]*1.12,2)\n",
        "    nom=round(nom+nsue,2)\n",
        "    i=i+1\n",
        "    print(f\"El nuevo sueldo del trabajador es {nsue}\")\n",
        "print(f\"La nomina es {nom}\")"
      ],
      "execution_count": 11,
      "outputs": [
        {
          "output_type": "stream",
          "name": "stdout",
          "text": [
            "El nuevo sueldo del trabajador es 983.25\n",
            "El nuevo sueldo del trabajador es 874.37\n",
            "El nuevo sueldo del trabajador es 1232.22\n",
            "El nuevo sueldo del trabajador es 706.1\n",
            "El nuevo sueldo del trabajador es 2912.0\n",
            "El nuevo sueldo del trabajador es 940.12\n",
            "El nuevo sueldo del trabajador es 1433.94\n",
            "El nuevo sueldo del trabajador es 790.05\n",
            "La nomina es 9872.05\n"
          ]
        }
      ]
    }
  ]
}